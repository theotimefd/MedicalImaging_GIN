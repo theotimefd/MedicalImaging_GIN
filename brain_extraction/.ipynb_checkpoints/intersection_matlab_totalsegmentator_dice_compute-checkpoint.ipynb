{
 "cells": [
  {
   "cell_type": "code",
   "execution_count": 1,
   "id": "e36cac51",
   "metadata": {},
   "outputs": [
    {
     "name": "stderr",
     "output_type": "stream",
     "text": [
      "/usr/lib/python3/dist-packages/scipy/__init__.py:146: UserWarning: A NumPy version >=1.17.3 and <1.25.0 is required for this version of SciPy (detected version 1.26.4\n",
      "  warnings.warn(f\"A NumPy version >={np_minversion} and <{np_maxversion}\"\n"
     ]
    }
   ],
   "source": [
    "import os\n",
    "import nibabel as nib\n",
    "import numpy as np"
   ]
  },
  {
   "cell_type": "code",
   "execution_count": 2,
   "id": "90e88bc6",
   "metadata": {},
   "outputs": [],
   "source": [
    "monailabel_ground_truth_folder = \"/home/fehrdelt/data_ssd/data/final_dataset_brain_extraction/fixed_distribution/test_dataset/labels/final/\"\n",
    "totalsegmentator_output_folder = \"/home/fehrdelt/data_ssd/data/output_totalsegmentator/\"\n",
    "matlab_output_folder = \"/home/fehrdelt/data_ssd/data/output_matlab/\"\n"
   ]
  },
  {
   "cell_type": "code",
   "execution_count": null,
   "id": "1abfacff",
   "metadata": {},
   "outputs": [],
   "source": [
    "DICE_list = []\n",
    "\n",
    "for file in os.listdir(monailabel_ground_truth_folder):\n",
    "    if file.endswith(\".nii.gz\"):\n",
    "        \n",
    "        ground_truth = nib.load(monailabel_ground_truth_folder+file)\n",
    "        totalsegmentator_inference = nib.load(totalsegmentator_output_folder+file)\n",
    "        matlab_inference = nib.load(matlab_output_folder+file)\n",
    "        \n",
    "        \n",
    "        ground_truth_data = ground_truth.get_fdata()\n",
    "        ground_truth_data[ground_truth_data>1]=1\n",
    "        \n",
    "        totalsegmentator_inference_data = totalsegmentator_inference.get_fdata()\n",
    "        totalsegmentator_inference_data[totalsegmentator_inference_data>1]=1\n",
    "        \n",
    "        matlab_inference_data = matlab_inference.get_fdata()\n",
    "        matlab_inference_data[matlab_inference_data>1]=1\n",
    "        \n",
    "        intersection = np.multiply(totalsegmentator_inference_data, matlab_inference_data)\n",
    "        \n",
    "        DICE = 2*np.sum(np.multiply(ground_truth_data, intersection))/(np.sum(ground_truth_data)+np.sum(intersection))\n",
    "        DICE_list.append(DICE)\n",
    "        \n",
    "        \n",
    "print(np.mean(DICE_list))\n"
   ]
  }
 ],
 "metadata": {
  "kernelspec": {
   "display_name": "label_env",
   "language": "python",
   "name": "label_env"
  },
  "language_info": {
   "codemirror_mode": {
    "name": "ipython",
    "version": 3
   },
   "file_extension": ".py",
   "mimetype": "text/x-python",
   "name": "python",
   "nbconvert_exporter": "python",
   "pygments_lexer": "ipython3",
   "version": "3.10.12"
  }
 },
 "nbformat": 4,
 "nbformat_minor": 5
}
