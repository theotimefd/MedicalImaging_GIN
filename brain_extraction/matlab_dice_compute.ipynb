{
 "cells": [
  {
   "cell_type": "code",
   "execution_count": 1,
   "id": "8ef4da58",
   "metadata": {},
   "outputs": [
    {
     "name": "stderr",
     "output_type": "stream",
     "text": [
      "/usr/lib/python3/dist-packages/scipy/__init__.py:146: UserWarning: A NumPy version >=1.17.3 and <1.25.0 is required for this version of SciPy (detected version 1.26.4\n",
      "  warnings.warn(f\"A NumPy version >={np_minversion} and <{np_maxversion}\"\n"
     ]
    }
   ],
   "source": [
    "import os\n",
    "import nibabel as nib\n",
    "import numpy as np"
   ]
  },
  {
   "cell_type": "code",
   "execution_count": 5,
   "id": "0c6ba832",
   "metadata": {},
   "outputs": [],
   "source": [
    "images_folder = \"/home/fehrdelt/data_ssd/data/final_dataset_brain_extraction/fixed_distribution/test_dataset/\"\n",
    "monailabel_ground_truth_folder = \"/home/fehrdelt/data_ssd/data/final_dataset_brain_extraction/fixed_distribution/test_dataset/labels/final/\"\n",
    "matlab_output_folder = \"/home/fehrdelt/data_ssd/data/output_matlab/\"\n"
   ]
  },
  {
   "cell_type": "code",
   "execution_count": 3,
   "id": "c4a93400",
   "metadata": {},
   "outputs": [
    {
     "name": "stdout",
     "output_type": "stream",
     "text": [
      "matlab_App_path=/data_network/irmage_pa/_SHARE/DOCKER_CT-TIQUA/docker_light_test/compiled_matlab_scripts/App/application/run_SkullStrip.sh\n",
      "matlab_runtime_path=/data_network/irmage_pa/_SHARE/DOCKER_CT-TIQUA/docker_light_test/compiled_matlab_scripts/RunTime/v910\n"
     ]
    }
   ],
   "source": [
    "matlab_App_path = '/data_network/irmage_pa/_SHARE/DOCKER_CT-TIQUA/docker_light_test/compiled_matlab_scripts/App/application/run_SkullStrip.sh'\n",
    "matlab_runtime_path = '/data_network/irmage_pa/_SHARE/DOCKER_CT-TIQUA/docker_light_test/compiled_matlab_scripts/RunTime/v910'\n",
    "# Uncomment to run the code inside a Docker\n",
    "print('matlab_App_path='+matlab_App_path)\n",
    "print('matlab_runtime_path='+matlab_runtime_path)"
   ]
  },
  {
   "cell_type": "code",
   "execution_count": null,
   "id": "40787abe",
   "metadata": {},
   "outputs": [],
   "source": [
    "\n",
    "for file in os.listdir(images_folder):\n",
    "    if file.endswith(\".nii.gz\"):\n",
    "        \n",
    "        nib.save(nib.load(images_folder+file), images_folder+file[:-3])\n"
   ]
  },
  {
   "cell_type": "code",
   "execution_count": 4,
   "id": "3b58d7b2",
   "metadata": {},
   "outputs": [
    {
     "name": "stdout",
     "output_type": "stream",
     "text": [
      "Start of the brain extraction...\n",
      "/data_network/irmage_pa/_SHARE/DOCKER_CT-TIQUA/docker_light_test/compiled_matlab_scripts/App/application/run_SkullStrip.sh /data_network/irmage_pa/_SHARE/DOCKER_CT-TIQUA/docker_light_test/compiled_matlab_scripts/RunTime/v910 /home/fehrdelt/data_ssd/data/final_dataset_brain_extraction/fixed_distribution/test_dataset/final_orig_J0_P02.nii /home/fehrdelt/data_ssd/data/output_matlab/extraction_final_orig_J0_P02.nii /home/fehrdelt/data_ssd/data/output_matlab/final_orig_J0_P02.nii\n",
      "------------------------------------------\n",
      "Setting up environment variables\n",
      "---\n",
      "LD_LIBRARY_PATH is .:/data_network/irmage_pa/_SHARE/DOCKER_CT-TIQUA/docker_light_test/compiled_matlab_scripts/RunTime/v910/runtime/glnxa64:/data_network/irmage_pa/_SHARE/DOCKER_CT-TIQUA/docker_light_test/compiled_matlab_scripts/RunTime/v910/bin/glnxa64:/data_network/irmage_pa/_SHARE/DOCKER_CT-TIQUA/docker_light_test/compiled_matlab_scripts/RunTime/v910/sys/os/glnxa64:/data_network/irmage_pa/_SHARE/DOCKER_CT-TIQUA/docker_light_test/compiled_matlab_scripts/RunTime/v910/sys/opengl/lib/glnxa64\n",
      "Skull stripping...\n",
      "End of the brain extraction\n",
      "Start of the brain extraction...\n",
      "/data_network/irmage_pa/_SHARE/DOCKER_CT-TIQUA/docker_light_test/compiled_matlab_scripts/App/application/run_SkullStrip.sh /data_network/irmage_pa/_SHARE/DOCKER_CT-TIQUA/docker_light_test/compiled_matlab_scripts/RunTime/v910 /home/fehrdelt/data_ssd/data/final_dataset_brain_extraction/fixed_distribution/test_dataset/final_orig_J0_P05.nii /home/fehrdelt/data_ssd/data/output_matlab/extraction_final_orig_J0_P05.nii /home/fehrdelt/data_ssd/data/output_matlab/final_orig_J0_P05.nii\n",
      "------------------------------------------\n",
      "Setting up environment variables\n",
      "---\n",
      "LD_LIBRARY_PATH is .:/data_network/irmage_pa/_SHARE/DOCKER_CT-TIQUA/docker_light_test/compiled_matlab_scripts/RunTime/v910/runtime/glnxa64:/data_network/irmage_pa/_SHARE/DOCKER_CT-TIQUA/docker_light_test/compiled_matlab_scripts/RunTime/v910/bin/glnxa64:/data_network/irmage_pa/_SHARE/DOCKER_CT-TIQUA/docker_light_test/compiled_matlab_scripts/RunTime/v910/sys/os/glnxa64:/data_network/irmage_pa/_SHARE/DOCKER_CT-TIQUA/docker_light_test/compiled_matlab_scripts/RunTime/v910/sys/opengl/lib/glnxa64\n",
      "Skull stripping...\n",
      "End of the brain extraction\n",
      "Start of the brain extraction...\n",
      "/data_network/irmage_pa/_SHARE/DOCKER_CT-TIQUA/docker_light_test/compiled_matlab_scripts/App/application/run_SkullStrip.sh /data_network/irmage_pa/_SHARE/DOCKER_CT-TIQUA/docker_light_test/compiled_matlab_scripts/RunTime/v910 /home/fehrdelt/data_ssd/data/final_dataset_brain_extraction/fixed_distribution/test_dataset/final_orig_J3_P02.nii /home/fehrdelt/data_ssd/data/output_matlab/extraction_final_orig_J3_P02.nii /home/fehrdelt/data_ssd/data/output_matlab/final_orig_J3_P02.nii\n",
      "------------------------------------------\n",
      "Setting up environment variables\n",
      "---\n",
      "LD_LIBRARY_PATH is .:/data_network/irmage_pa/_SHARE/DOCKER_CT-TIQUA/docker_light_test/compiled_matlab_scripts/RunTime/v910/runtime/glnxa64:/data_network/irmage_pa/_SHARE/DOCKER_CT-TIQUA/docker_light_test/compiled_matlab_scripts/RunTime/v910/bin/glnxa64:/data_network/irmage_pa/_SHARE/DOCKER_CT-TIQUA/docker_light_test/compiled_matlab_scripts/RunTime/v910/sys/os/glnxa64:/data_network/irmage_pa/_SHARE/DOCKER_CT-TIQUA/docker_light_test/compiled_matlab_scripts/RunTime/v910/sys/opengl/lib/glnxa64\n",
      "Skull stripping...\n",
      "End of the brain extraction\n",
      "Start of the brain extraction...\n",
      "/data_network/irmage_pa/_SHARE/DOCKER_CT-TIQUA/docker_light_test/compiled_matlab_scripts/App/application/run_SkullStrip.sh /data_network/irmage_pa/_SHARE/DOCKER_CT-TIQUA/docker_light_test/compiled_matlab_scripts/RunTime/v910 /home/fehrdelt/data_ssd/data/final_dataset_brain_extraction/fixed_distribution/test_dataset/final_orig_J3_P05.nii /home/fehrdelt/data_ssd/data/output_matlab/extraction_final_orig_J3_P05.nii /home/fehrdelt/data_ssd/data/output_matlab/final_orig_J3_P05.nii\n",
      "------------------------------------------\n",
      "Setting up environment variables\n",
      "---\n",
      "LD_LIBRARY_PATH is .:/data_network/irmage_pa/_SHARE/DOCKER_CT-TIQUA/docker_light_test/compiled_matlab_scripts/RunTime/v910/runtime/glnxa64:/data_network/irmage_pa/_SHARE/DOCKER_CT-TIQUA/docker_light_test/compiled_matlab_scripts/RunTime/v910/bin/glnxa64:/data_network/irmage_pa/_SHARE/DOCKER_CT-TIQUA/docker_light_test/compiled_matlab_scripts/RunTime/v910/sys/os/glnxa64:/data_network/irmage_pa/_SHARE/DOCKER_CT-TIQUA/docker_light_test/compiled_matlab_scripts/RunTime/v910/sys/opengl/lib/glnxa64\n",
      "Skull stripping...\n",
      "End of the brain extraction\n",
      "Start of the brain extraction...\n",
      "/data_network/irmage_pa/_SHARE/DOCKER_CT-TIQUA/docker_light_test/compiled_matlab_scripts/App/application/run_SkullStrip.sh /data_network/irmage_pa/_SHARE/DOCKER_CT-TIQUA/docker_light_test/compiled_matlab_scripts/RunTime/v910 /home/fehrdelt/data_ssd/data/final_dataset_brain_extraction/fixed_distribution/test_dataset/final_orig_J1_P02.nii /home/fehrdelt/data_ssd/data/output_matlab/extraction_final_orig_J1_P02.nii /home/fehrdelt/data_ssd/data/output_matlab/final_orig_J1_P02.nii\n",
      "------------------------------------------\n",
      "Setting up environment variables\n",
      "---\n",
      "LD_LIBRARY_PATH is .:/data_network/irmage_pa/_SHARE/DOCKER_CT-TIQUA/docker_light_test/compiled_matlab_scripts/RunTime/v910/runtime/glnxa64:/data_network/irmage_pa/_SHARE/DOCKER_CT-TIQUA/docker_light_test/compiled_matlab_scripts/RunTime/v910/bin/glnxa64:/data_network/irmage_pa/_SHARE/DOCKER_CT-TIQUA/docker_light_test/compiled_matlab_scripts/RunTime/v910/sys/os/glnxa64:/data_network/irmage_pa/_SHARE/DOCKER_CT-TIQUA/docker_light_test/compiled_matlab_scripts/RunTime/v910/sys/opengl/lib/glnxa64\n",
      "Skull stripping...\n",
      "End of the brain extraction\n",
      "Start of the brain extraction...\n",
      "/data_network/irmage_pa/_SHARE/DOCKER_CT-TIQUA/docker_light_test/compiled_matlab_scripts/App/application/run_SkullStrip.sh /data_network/irmage_pa/_SHARE/DOCKER_CT-TIQUA/docker_light_test/compiled_matlab_scripts/RunTime/v910 /home/fehrdelt/data_ssd/data/final_dataset_brain_extraction/fixed_distribution/test_dataset/final_orig_J0_P11.nii /home/fehrdelt/data_ssd/data/output_matlab/extraction_final_orig_J0_P11.nii /home/fehrdelt/data_ssd/data/output_matlab/final_orig_J0_P11.nii\n",
      "------------------------------------------\n",
      "Setting up environment variables\n",
      "---\n",
      "LD_LIBRARY_PATH is .:/data_network/irmage_pa/_SHARE/DOCKER_CT-TIQUA/docker_light_test/compiled_matlab_scripts/RunTime/v910/runtime/glnxa64:/data_network/irmage_pa/_SHARE/DOCKER_CT-TIQUA/docker_light_test/compiled_matlab_scripts/RunTime/v910/bin/glnxa64:/data_network/irmage_pa/_SHARE/DOCKER_CT-TIQUA/docker_light_test/compiled_matlab_scripts/RunTime/v910/sys/os/glnxa64:/data_network/irmage_pa/_SHARE/DOCKER_CT-TIQUA/docker_light_test/compiled_matlab_scripts/RunTime/v910/sys/opengl/lib/glnxa64\n",
      "Skull stripping...\n",
      "End of the brain extraction\n",
      "Start of the brain extraction...\n",
      "/data_network/irmage_pa/_SHARE/DOCKER_CT-TIQUA/docker_light_test/compiled_matlab_scripts/App/application/run_SkullStrip.sh /data_network/irmage_pa/_SHARE/DOCKER_CT-TIQUA/docker_light_test/compiled_matlab_scripts/RunTime/v910 /home/fehrdelt/data_ssd/data/final_dataset_brain_extraction/fixed_distribution/test_dataset/final_orig_J1_P11.nii /home/fehrdelt/data_ssd/data/output_matlab/extraction_final_orig_J1_P11.nii /home/fehrdelt/data_ssd/data/output_matlab/final_orig_J1_P11.nii\n",
      "------------------------------------------\n",
      "Setting up environment variables\n",
      "---\n",
      "LD_LIBRARY_PATH is .:/data_network/irmage_pa/_SHARE/DOCKER_CT-TIQUA/docker_light_test/compiled_matlab_scripts/RunTime/v910/runtime/glnxa64:/data_network/irmage_pa/_SHARE/DOCKER_CT-TIQUA/docker_light_test/compiled_matlab_scripts/RunTime/v910/bin/glnxa64:/data_network/irmage_pa/_SHARE/DOCKER_CT-TIQUA/docker_light_test/compiled_matlab_scripts/RunTime/v910/sys/os/glnxa64:/data_network/irmage_pa/_SHARE/DOCKER_CT-TIQUA/docker_light_test/compiled_matlab_scripts/RunTime/v910/sys/opengl/lib/glnxa64\n",
      "Skull stripping...\n",
      "End of the brain extraction\n",
      "Start of the brain extraction...\n",
      "/data_network/irmage_pa/_SHARE/DOCKER_CT-TIQUA/docker_light_test/compiled_matlab_scripts/App/application/run_SkullStrip.sh /data_network/irmage_pa/_SHARE/DOCKER_CT-TIQUA/docker_light_test/compiled_matlab_scripts/RunTime/v910 /home/fehrdelt/data_ssd/data/final_dataset_brain_extraction/fixed_distribution/test_dataset/final_orig_J3_P11.nii /home/fehrdelt/data_ssd/data/output_matlab/extraction_final_orig_J3_P11.nii /home/fehrdelt/data_ssd/data/output_matlab/final_orig_J3_P11.nii\n",
      "------------------------------------------\n",
      "Setting up environment variables\n",
      "---\n",
      "LD_LIBRARY_PATH is .:/data_network/irmage_pa/_SHARE/DOCKER_CT-TIQUA/docker_light_test/compiled_matlab_scripts/RunTime/v910/runtime/glnxa64:/data_network/irmage_pa/_SHARE/DOCKER_CT-TIQUA/docker_light_test/compiled_matlab_scripts/RunTime/v910/bin/glnxa64:/data_network/irmage_pa/_SHARE/DOCKER_CT-TIQUA/docker_light_test/compiled_matlab_scripts/RunTime/v910/sys/os/glnxa64:/data_network/irmage_pa/_SHARE/DOCKER_CT-TIQUA/docker_light_test/compiled_matlab_scripts/RunTime/v910/sys/opengl/lib/glnxa64\n"
     ]
    },
    {
     "name": "stdout",
     "output_type": "stream",
     "text": [
      "Skull stripping...\n",
      "End of the brain extraction\n",
      "Start of the brain extraction...\n",
      "/data_network/irmage_pa/_SHARE/DOCKER_CT-TIQUA/docker_light_test/compiled_matlab_scripts/App/application/run_SkullStrip.sh /data_network/irmage_pa/_SHARE/DOCKER_CT-TIQUA/docker_light_test/compiled_matlab_scripts/RunTime/v910 /home/fehrdelt/data_ssd/data/final_dataset_brain_extraction/fixed_distribution/test_dataset/final454002_GM-219_454002_CDIN-Crane_Sans_IV_CDIN-Crane_Sans_IV_dcm---GM-219---2019-08-06000000.nii /home/fehrdelt/data_ssd/data/output_matlab/extraction_final454002_GM-219_454002_CDIN-Crane_Sans_IV_CDIN-Crane_Sans_IV_dcm---GM-219---2019-08-06000000.nii /home/fehrdelt/data_ssd/data/output_matlab/final454002_GM-219_454002_CDIN-Crane_Sans_IV_CDIN-Crane_Sans_IV_dcm---GM-219---2019-08-06000000.nii\n",
      "------------------------------------------\n",
      "Setting up environment variables\n",
      "---\n",
      "LD_LIBRARY_PATH is .:/data_network/irmage_pa/_SHARE/DOCKER_CT-TIQUA/docker_light_test/compiled_matlab_scripts/RunTime/v910/runtime/glnxa64:/data_network/irmage_pa/_SHARE/DOCKER_CT-TIQUA/docker_light_test/compiled_matlab_scripts/RunTime/v910/bin/glnxa64:/data_network/irmage_pa/_SHARE/DOCKER_CT-TIQUA/docker_light_test/compiled_matlab_scripts/RunTime/v910/sys/os/glnxa64:/data_network/irmage_pa/_SHARE/DOCKER_CT-TIQUA/docker_light_test/compiled_matlab_scripts/RunTime/v910/sys/opengl/lib/glnxa64\n",
      "Skull stripping...\n",
      "End of the brain extraction\n",
      "Start of the brain extraction...\n",
      "/data_network/irmage_pa/_SHARE/DOCKER_CT-TIQUA/docker_light_test/compiled_matlab_scripts/App/application/run_SkullStrip.sh /data_network/irmage_pa/_SHARE/DOCKER_CT-TIQUA/docker_light_test/compiled_matlab_scripts/RunTime/v910 /home/fehrdelt/data_ssd/data/final_dataset_brain_extraction/fixed_distribution/test_dataset/final454008_LG-278_454008_Crane_Sans_IV_Crane_Sans_IV_dcm---LG-278---2020-03-11000000.nii /home/fehrdelt/data_ssd/data/output_matlab/extraction_final454008_LG-278_454008_Crane_Sans_IV_Crane_Sans_IV_dcm---LG-278---2020-03-11000000.nii /home/fehrdelt/data_ssd/data/output_matlab/final454008_LG-278_454008_Crane_Sans_IV_Crane_Sans_IV_dcm---LG-278---2020-03-11000000.nii\n",
      "------------------------------------------\n",
      "Setting up environment variables\n",
      "---\n",
      "LD_LIBRARY_PATH is .:/data_network/irmage_pa/_SHARE/DOCKER_CT-TIQUA/docker_light_test/compiled_matlab_scripts/RunTime/v910/runtime/glnxa64:/data_network/irmage_pa/_SHARE/DOCKER_CT-TIQUA/docker_light_test/compiled_matlab_scripts/RunTime/v910/bin/glnxa64:/data_network/irmage_pa/_SHARE/DOCKER_CT-TIQUA/docker_light_test/compiled_matlab_scripts/RunTime/v910/sys/os/glnxa64:/data_network/irmage_pa/_SHARE/DOCKER_CT-TIQUA/docker_light_test/compiled_matlab_scripts/RunTime/v910/sys/opengl/lib/glnxa64\n",
      "Skull stripping...\n",
      "End of the brain extraction\n",
      "Start of the brain extraction...\n",
      "/data_network/irmage_pa/_SHARE/DOCKER_CT-TIQUA/docker_light_test/compiled_matlab_scripts/App/application/run_SkullStrip.sh /data_network/irmage_pa/_SHARE/DOCKER_CT-TIQUA/docker_light_test/compiled_matlab_scripts/RunTime/v910 /home/fehrdelt/data_ssd/data/final_dataset_brain_extraction/fixed_distribution/test_dataset/final454028_MC-279_454028_Crane_Sans_IV_Crane_Sans_IV_dcm---MC-279---2020-03-16000000.nii /home/fehrdelt/data_ssd/data/output_matlab/extraction_final454028_MC-279_454028_Crane_Sans_IV_Crane_Sans_IV_dcm---MC-279---2020-03-16000000.nii /home/fehrdelt/data_ssd/data/output_matlab/final454028_MC-279_454028_Crane_Sans_IV_Crane_Sans_IV_dcm---MC-279---2020-03-16000000.nii\n",
      "------------------------------------------\n",
      "Setting up environment variables\n",
      "---\n",
      "LD_LIBRARY_PATH is .:/data_network/irmage_pa/_SHARE/DOCKER_CT-TIQUA/docker_light_test/compiled_matlab_scripts/RunTime/v910/runtime/glnxa64:/data_network/irmage_pa/_SHARE/DOCKER_CT-TIQUA/docker_light_test/compiled_matlab_scripts/RunTime/v910/bin/glnxa64:/data_network/irmage_pa/_SHARE/DOCKER_CT-TIQUA/docker_light_test/compiled_matlab_scripts/RunTime/v910/sys/os/glnxa64:/data_network/irmage_pa/_SHARE/DOCKER_CT-TIQUA/docker_light_test/compiled_matlab_scripts/RunTime/v910/sys/opengl/lib/glnxa64\n",
      "Skull stripping...\n",
      "End of the brain extraction\n"
     ]
    }
   ],
   "source": [
    "\n",
    "for file in os.listdir(images_folder):\n",
    "    if file.endswith(\".nii\"):\n",
    "        \n",
    "        \n",
    "        #BRAIN EXTRACTION\n",
    "        print('Start of the brain extraction...')\n",
    "        outimage = matlab_output_folder+\"extraction_\"+file\n",
    "        outROI = matlab_output_folder+file\n",
    "        cmdline = matlab_App_path+ ' ' + matlab_runtime_path + ' ' + images_folder+file + ' ' + outimage + ' ' + outROI\n",
    "\n",
    "        print(cmdline)\n",
    "        os.system(cmdline)\n",
    "        print('End of the brain extraction')\n",
    "        \n",
    "        \n",
    "        "
   ]
  },
  {
   "cell_type": "code",
   "execution_count": 6,
   "id": "046edb51",
   "metadata": {},
   "outputs": [
    {
     "name": "stdout",
     "output_type": "stream",
     "text": [
      "0.9604023536064137\n"
     ]
    }
   ],
   "source": [
    "DICE_list = []\n",
    "\n",
    "for file in os.listdir(monailabel_ground_truth_folder):\n",
    "    if file.endswith(\".nii.gz\") and not file[:10]==\"extraction\":\n",
    "        \n",
    "        \n",
    "        ground_truth = nib.load(monailabel_ground_truth_folder+file)\n",
    "        matlab_inference = nib.load(matlab_output_folder+file)\n",
    "        \n",
    "        \n",
    "        ground_truth_data = ground_truth.get_fdata()\n",
    "        ground_truth_data[ground_truth_data>1]=1\n",
    "        \n",
    "        matlab_inference_data = matlab_inference.get_fdata()\n",
    "        matlab_inference_data[matlab_inference_data>1]=1\n",
    "        \n",
    "        \n",
    "        DICE = 2*np.sum(np.multiply(ground_truth_data, matlab_inference_data))/(np.sum(ground_truth_data)+np.sum(matlab_inference_data))\n",
    "        DICE_list.append(DICE)\n",
    "        \n",
    "        \n",
    "print(np.mean(DICE_list))\n"
   ]
  },
  {
   "cell_type": "code",
   "execution_count": null,
   "id": "0d7f377c",
   "metadata": {},
   "outputs": [],
   "source": []
  }
 ],
 "metadata": {
  "kernelspec": {
   "display_name": "label_env",
   "language": "python",
   "name": "label_env"
  },
  "language_info": {
   "codemirror_mode": {
    "name": "ipython",
    "version": 3
   },
   "file_extension": ".py",
   "mimetype": "text/x-python",
   "name": "python",
   "nbconvert_exporter": "python",
   "pygments_lexer": "ipython3",
   "version": "3.10.12"
  }
 },
 "nbformat": 4,
 "nbformat_minor": 5
}
