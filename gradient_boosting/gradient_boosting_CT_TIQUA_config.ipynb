{
 "cells": [
  {
   "cell_type": "code",
   "execution_count": 2,
   "metadata": {},
   "outputs": [],
   "source": [
    "import sys\n",
    "sys.path.append(\"/home/fehrdelt/data_ssd/MedicalImaging_GIN/gradient_boosting\")\n",
    "\n",
    "import os\n",
    "import lightgbm as lgb\n",
    "import pandas as pd\n",
    "import numpy as np\n",
    "\n",
    "from sklearn.model_selection import train_test_split\n",
    "from sklearn.model_selection import cross_val_score\n",
    "from sklearn.model_selection import cross_validate\n",
    "from sklearn.model_selection import RepeatedStratifiedKFold\n",
    "from sklearn.metrics import accuracy_score\n",
    "from sklearn.metrics import classification_report\n",
    "\n",
    "\n",
    "from sklearn.impute import SimpleImputer\n",
    "\n",
    "from sklearn.tree import DecisionTreeClassifier\n",
    "from sklearn.ensemble import HistGradientBoostingClassifier\n",
    "\n",
    "from imblearn.pipeline import Pipeline\n",
    "from imblearn.over_sampling import SMOTE\n",
    "from imblearn.under_sampling import RandomUnderSampler\n",
    "\n",
    "from sklearn.manifold import TSNE\n",
    "import umap\n",
    "\n",
    "import matplotlib.pyplot as plt\n",
    "\n",
    "\n"
   ]
  },
  {
   "cell_type": "code",
   "execution_count": 5,
   "metadata": {},
   "outputs": [],
   "source": [
    "DATA_DIRECTORY = \"/home/fehrdelt/data_ssd/data/clinical_data/Full/\""
   ]
  },
  {
   "cell_type": "code",
   "execution_count": 6,
   "metadata": {},
   "outputs": [
    {
     "name": "stdout",
     "output_type": "stream",
     "text": [
      "Index([76, 102, 104, 113, 118, 125], dtype='int64')\n"
     ]
    }
   ],
   "source": [
    "y = pd.read_csv(DATA_DIRECTORY+\"combined_clinical_data_volumes_outcome_TTS_LDDMM.csv\", usecols=[31])\n",
    "y.head()\n",
    "\n",
    "nan_indexes = y.loc[pd.isna(y[\"outcome_neurochir_pic\"]), :].index # indexes where there is a nan value.\n",
    "print(nan_indexes)\n",
    "\n",
    "y = y.dropna()\n",
    "\n",
    "y = y['outcome_neurochir_pic'].to_numpy()\n",
    "y = [int(i) for i in y]"
   ]
  },
  {
   "cell_type": "code",
   "execution_count": 7,
   "metadata": {},
   "outputs": [
    {
     "name": "stdout",
     "output_type": "stream",
     "text": [
      "scikit learn gradient boosting classifier 5 fold stratified cross validation\n",
      " ------------------------------ \n",
      "TTS_ANTS Mean ROC AUC: 0.859\n",
      "TTS_ANTS Mean recall macro: 0.602\n",
      " ------------------------------ \n",
      "TTS_ANTS_hist_match Mean ROC AUC: 0.849\n",
      "TTS_ANTS_hist_match Mean recall macro: 0.596\n",
      " ------------------------------ \n",
      "TTS_LDDMM Mean ROC AUC: 0.857\n",
      "TTS_LDDMM Mean recall macro: 0.585\n",
      " ------------------------------ \n",
      "matlab_ANTS Mean ROC AUC: 0.862\n",
      "matlab_ANTS Mean recall macro: 0.616\n",
      " ------------------------------ \n",
      "matlab_ANTS_hist_match Mean ROC AUC: 0.867\n",
      "matlab_ANTS_hist_match Mean recall macro: 0.596\n",
      " ------------------------------ \n",
      "matlab_LDDMM Mean ROC AUC: 0.861\n",
      "matlab_LDDMM Mean recall macro: 0.609\n",
      " ------------------------------ \n",
      "custom_nn_ANTS Mean ROC AUC: 0.853\n",
      "custom_nn_ANTS Mean recall macro: 0.594\n",
      " ------------------------------ \n",
      "custom_nn_ANTS_hist_match Mean ROC AUC: 0.860\n",
      "custom_nn_ANTS_hist_match Mean recall macro: 0.584\n",
      " ------------------------------ \n",
      "custom_nn_LDDMM Mean ROC AUC: 0.852\n",
      "custom_nn_LDDMM Mean recall macro: 0.575\n"
     ]
    }
   ],
   "source": [
    "configs_list = [\"TTS_ANTS\", \"TTS_ANTS_hist_match\", \"TTS_LDDMM\", \"matlab_ANTS\", \"matlab_ANTS_hist_match\", \"matlab_LDDMM\", \"custom_nn_ANTS\", \"custom_nn_ANTS_hist_match\", \"custom_nn_LDDMM\"]\n",
    "\n",
    "print(\"scikit learn gradient boosting classifier 5 fold stratified cross validation\")\n",
    "\n",
    "\n",
    "for config in configs_list:\n",
    "\n",
    "    X = pd.read_csv(DATA_DIRECTORY+f\"combined_clinical_data_volumes_outcome_{config}.csv\", usecols=range(2,31))\n",
    "    X = X.drop(nan_indexes)\n",
    "\n",
    "    imp = SimpleImputer(missing_values=np.nan, strategy=\"median\")\n",
    "\n",
    "    imp.fit(X)\n",
    "    X = imp.transform(X)\n",
    "\n",
    "\n",
    "    #model = DecisionTreeClassifier()\n",
    "    model = HistGradientBoostingClassifier(categorical_features=[False]*14 + [False, False, True, True, False, False, False, False, True, False, True, True, True, True, True])\n",
    "\n",
    "    cv = RepeatedStratifiedKFold(n_splits=5, n_repeats=3, random_state=1)\n",
    "\n",
    "    #scores = cross_val_score(model, X, y, scoring='roc_auc', cv=cv, n_jobs=-1)\n",
    "    scores = cross_validate(model, X, y, scoring=['roc_auc', 'recall_macro'], cv=cv, n_jobs=-1)\n",
    "\n",
    "    #print(scores)\n",
    "    print(\" ------------------------------ \")\n",
    "    print(config+' Mean ROC AUC: %.3f' % np.mean(scores['test_roc_auc']))\n",
    "    print(config+' Mean recall macro: %.3f' % np.mean(scores['test_recall_macro']))\n",
    "    "
   ]
  },
  {
   "cell_type": "code",
   "execution_count": null,
   "metadata": {},
   "outputs": [],
   "source": []
  },
  {
   "cell_type": "code",
   "execution_count": null,
   "metadata": {},
   "outputs": [],
   "source": []
  }
 ],
 "metadata": {
  "kernelspec": {
   "display_name": "general_env",
   "language": "python",
   "name": "general_env"
  },
  "language_info": {
   "codemirror_mode": {
    "name": "ipython",
    "version": 3
   },
   "file_extension": ".py",
   "mimetype": "text/x-python",
   "name": "python",
   "nbconvert_exporter": "python",
   "pygments_lexer": "ipython3",
   "version": "3.10.12"
  }
 },
 "nbformat": 4,
 "nbformat_minor": 2
}
