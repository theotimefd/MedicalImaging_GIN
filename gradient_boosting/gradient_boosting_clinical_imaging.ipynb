{
 "cells": [
  {
   "cell_type": "code",
   "execution_count": 1,
   "metadata": {},
   "outputs": [
    {
     "name": "stderr",
     "output_type": "stream",
     "text": [
      "/data_local/data_ssd/fehrdelt/environments/general_env/lib/python3.10/site-packages/tqdm/auto.py:21: TqdmWarning: IProgress not found. Please update jupyter and ipywidgets. See https://ipywidgets.readthedocs.io/en/stable/user_install.html\n",
      "  from .autonotebook import tqdm as notebook_tqdm\n"
     ]
    }
   ],
   "source": [
    "import sys\n",
    "sys.path.append(\"/home/fehrdelt/data_ssd/MedicalImaging_GIN/gradient_boosting\")\n",
    "\n",
    "import os\n",
    "import lightgbm as lgb\n",
    "import pandas as pd\n",
    "import numpy as np\n",
    "\n",
    "from sklearn.model_selection import train_test_split\n",
    "from sklearn.model_selection import cross_val_score\n",
    "from sklearn.model_selection import cross_validate\n",
    "from sklearn.model_selection import RepeatedStratifiedKFold\n",
    "from sklearn.metrics import accuracy_score\n",
    "from sklearn.metrics import classification_report\n",
    "\n",
    "\n",
    "from sklearn.impute import SimpleImputer\n",
    "\n",
    "from sklearn.tree import DecisionTreeClassifier\n",
    "from sklearn.ensemble import HistGradientBoostingClassifier\n",
    "\n",
    "from imblearn.pipeline import Pipeline\n",
    "from imblearn.over_sampling import SMOTE\n",
    "from imblearn.under_sampling import RandomUnderSampler\n",
    "\n",
    "from sklearn.manifold import TSNE\n",
    "import umap\n",
    "\n",
    "import matplotlib.pyplot as plt\n",
    "\n",
    "\n"
   ]
  },
  {
   "cell_type": "code",
   "execution_count": 2,
   "metadata": {},
   "outputs": [],
   "source": [
    "DATA_DIRECTORY = \"/home/fehrdelt/data_ssd/data/clinical_data/\""
   ]
  },
  {
   "cell_type": "code",
   "execution_count": 3,
   "metadata": {},
   "outputs": [
    {
     "data": {
      "text/html": [
       "<div>\n",
       "<style scoped>\n",
       "    .dataframe tbody tr th:only-of-type {\n",
       "        vertical-align: middle;\n",
       "    }\n",
       "\n",
       "    .dataframe tbody tr th {\n",
       "        vertical-align: top;\n",
       "    }\n",
       "\n",
       "    .dataframe thead th {\n",
       "        text-align: right;\n",
       "    }\n",
       "</style>\n",
       "<table border=\"1\" class=\"dataframe\">\n",
       "  <thead>\n",
       "    <tr style=\"text-align: right;\">\n",
       "      <th></th>\n",
       "      <th>supratentorial_IPH</th>\n",
       "      <th>supratentorial_SAH</th>\n",
       "      <th>supratentorial_Petechiae</th>\n",
       "      <th>supratentorial_Edema</th>\n",
       "      <th>infratentorial_IPH</th>\n",
       "      <th>infratentorial_SAH</th>\n",
       "      <th>infratentorial_Petechiae</th>\n",
       "      <th>infratentorial_Edema</th>\n",
       "      <th>brainstem_IPH</th>\n",
       "      <th>brainstem_SAH</th>\n",
       "      <th>...</th>\n",
       "      <th>pression_arterielle_diastolique_PAD_arrivee_du_smur</th>\n",
       "      <th>score_glasgow_initial</th>\n",
       "      <th>score_glasgow_moteur_initial</th>\n",
       "      <th>anomalie_pupillaire_prehospitalier</th>\n",
       "      <th>frequence_cardiaque_FC_arrivee_du_smur</th>\n",
       "      <th>arret_cardio_respiratoire_massage</th>\n",
       "      <th>penetrant_objet</th>\n",
       "      <th>ischemie_du_membre</th>\n",
       "      <th>hemorragie_externe</th>\n",
       "      <th>amputation</th>\n",
       "    </tr>\n",
       "  </thead>\n",
       "  <tbody>\n",
       "    <tr>\n",
       "      <th>0</th>\n",
       "      <td>0</td>\n",
       "      <td>337</td>\n",
       "      <td>0</td>\n",
       "      <td>0</td>\n",
       "      <td>0</td>\n",
       "      <td>15</td>\n",
       "      <td>0</td>\n",
       "      <td>0</td>\n",
       "      <td>0</td>\n",
       "      <td>0</td>\n",
       "      <td>...</td>\n",
       "      <td>49.0</td>\n",
       "      <td>15.0</td>\n",
       "      <td>6.0</td>\n",
       "      <td>0.0</td>\n",
       "      <td>56.0</td>\n",
       "      <td>0.0</td>\n",
       "      <td>0.0</td>\n",
       "      <td>0.0</td>\n",
       "      <td>0.0</td>\n",
       "      <td>0.0</td>\n",
       "    </tr>\n",
       "    <tr>\n",
       "      <th>1</th>\n",
       "      <td>0</td>\n",
       "      <td>0</td>\n",
       "      <td>0</td>\n",
       "      <td>0</td>\n",
       "      <td>0</td>\n",
       "      <td>0</td>\n",
       "      <td>0</td>\n",
       "      <td>0</td>\n",
       "      <td>0</td>\n",
       "      <td>0</td>\n",
       "      <td>...</td>\n",
       "      <td>60.0</td>\n",
       "      <td>15.0</td>\n",
       "      <td>6.0</td>\n",
       "      <td>0.0</td>\n",
       "      <td>100.0</td>\n",
       "      <td>0.0</td>\n",
       "      <td>0.0</td>\n",
       "      <td>0.0</td>\n",
       "      <td>0.0</td>\n",
       "      <td>0.0</td>\n",
       "    </tr>\n",
       "    <tr>\n",
       "      <th>2</th>\n",
       "      <td>0</td>\n",
       "      <td>90</td>\n",
       "      <td>0</td>\n",
       "      <td>0</td>\n",
       "      <td>0</td>\n",
       "      <td>0</td>\n",
       "      <td>0</td>\n",
       "      <td>0</td>\n",
       "      <td>0</td>\n",
       "      <td>0</td>\n",
       "      <td>...</td>\n",
       "      <td>64.0</td>\n",
       "      <td>14.0</td>\n",
       "      <td>6.0</td>\n",
       "      <td>0.0</td>\n",
       "      <td>120.0</td>\n",
       "      <td>0.0</td>\n",
       "      <td>0.0</td>\n",
       "      <td>0.0</td>\n",
       "      <td>0.0</td>\n",
       "      <td>0.0</td>\n",
       "    </tr>\n",
       "    <tr>\n",
       "      <th>3</th>\n",
       "      <td>0</td>\n",
       "      <td>333</td>\n",
       "      <td>0</td>\n",
       "      <td>0</td>\n",
       "      <td>0</td>\n",
       "      <td>0</td>\n",
       "      <td>0</td>\n",
       "      <td>0</td>\n",
       "      <td>0</td>\n",
       "      <td>0</td>\n",
       "      <td>...</td>\n",
       "      <td>71.0</td>\n",
       "      <td>15.0</td>\n",
       "      <td>6.0</td>\n",
       "      <td>0.0</td>\n",
       "      <td>107.0</td>\n",
       "      <td>0.0</td>\n",
       "      <td>0.0</td>\n",
       "      <td>0.0</td>\n",
       "      <td>0.0</td>\n",
       "      <td>0.0</td>\n",
       "    </tr>\n",
       "    <tr>\n",
       "      <th>4</th>\n",
       "      <td>0</td>\n",
       "      <td>17</td>\n",
       "      <td>0</td>\n",
       "      <td>15</td>\n",
       "      <td>0</td>\n",
       "      <td>0</td>\n",
       "      <td>0</td>\n",
       "      <td>0</td>\n",
       "      <td>0</td>\n",
       "      <td>0</td>\n",
       "      <td>...</td>\n",
       "      <td>79.0</td>\n",
       "      <td>NaN</td>\n",
       "      <td>NaN</td>\n",
       "      <td>0.0</td>\n",
       "      <td>83.0</td>\n",
       "      <td>0.0</td>\n",
       "      <td>0.0</td>\n",
       "      <td>0.0</td>\n",
       "      <td>0.0</td>\n",
       "      <td>0.0</td>\n",
       "    </tr>\n",
       "  </tbody>\n",
       "</table>\n",
       "<p>5 rows × 29 columns</p>\n",
       "</div>"
      ],
      "text/plain": [
       "   supratentorial_IPH  supratentorial_SAH  supratentorial_Petechiae  \\\n",
       "0                   0                 337                         0   \n",
       "1                   0                   0                         0   \n",
       "2                   0                  90                         0   \n",
       "3                   0                 333                         0   \n",
       "4                   0                  17                         0   \n",
       "\n",
       "   supratentorial_Edema  infratentorial_IPH  infratentorial_SAH  \\\n",
       "0                     0                   0                  15   \n",
       "1                     0                   0                   0   \n",
       "2                     0                   0                   0   \n",
       "3                     0                   0                   0   \n",
       "4                    15                   0                   0   \n",
       "\n",
       "   infratentorial_Petechiae  infratentorial_Edema  brainstem_IPH  \\\n",
       "0                         0                     0              0   \n",
       "1                         0                     0              0   \n",
       "2                         0                     0              0   \n",
       "3                         0                     0              0   \n",
       "4                         0                     0              0   \n",
       "\n",
       "   brainstem_SAH  ...  pression_arterielle_diastolique_PAD_arrivee_du_smur  \\\n",
       "0              0  ...                                               49.0     \n",
       "1              0  ...                                               60.0     \n",
       "2              0  ...                                               64.0     \n",
       "3              0  ...                                               71.0     \n",
       "4              0  ...                                               79.0     \n",
       "\n",
       "   score_glasgow_initial  score_glasgow_moteur_initial  \\\n",
       "0                   15.0                           6.0   \n",
       "1                   15.0                           6.0   \n",
       "2                   14.0                           6.0   \n",
       "3                   15.0                           6.0   \n",
       "4                    NaN                           NaN   \n",
       "\n",
       "   anomalie_pupillaire_prehospitalier  frequence_cardiaque_FC_arrivee_du_smur  \\\n",
       "0                                 0.0                                    56.0   \n",
       "1                                 0.0                                   100.0   \n",
       "2                                 0.0                                   120.0   \n",
       "3                                 0.0                                   107.0   \n",
       "4                                 0.0                                    83.0   \n",
       "\n",
       "   arret_cardio_respiratoire_massage  penetrant_objet  ischemie_du_membre  \\\n",
       "0                                0.0              0.0                 0.0   \n",
       "1                                0.0              0.0                 0.0   \n",
       "2                                0.0              0.0                 0.0   \n",
       "3                                0.0              0.0                 0.0   \n",
       "4                                0.0              0.0                 0.0   \n",
       "\n",
       "   hemorragie_externe  amputation  \n",
       "0                 0.0         0.0  \n",
       "1                 0.0         0.0  \n",
       "2                 0.0         0.0  \n",
       "3                 0.0         0.0  \n",
       "4                 0.0         0.0  \n",
       "\n",
       "[5 rows x 29 columns]"
      ]
     },
     "execution_count": 3,
     "metadata": {},
     "output_type": "execute_result"
    }
   ],
   "source": [
    "X_volumes_clinical = pd.read_csv(DATA_DIRECTORY+\"combined_clinical_data_volumes_outcome_TTS_LDDMM.csv\", usecols=range(2,31))\n",
    "X_volumes_clinical.head()"
   ]
  },
  {
   "cell_type": "code",
   "execution_count": 4,
   "metadata": {},
   "outputs": [
    {
     "data": {
      "text/html": [
       "<div>\n",
       "<style scoped>\n",
       "    .dataframe tbody tr th:only-of-type {\n",
       "        vertical-align: middle;\n",
       "    }\n",
       "\n",
       "    .dataframe tbody tr th {\n",
       "        vertical-align: top;\n",
       "    }\n",
       "\n",
       "    .dataframe thead th {\n",
       "        text-align: right;\n",
       "    }\n",
       "</style>\n",
       "<table border=\"1\" class=\"dataframe\">\n",
       "  <thead>\n",
       "    <tr style=\"text-align: right;\">\n",
       "      <th></th>\n",
       "      <th>age</th>\n",
       "      <th>hemocue_initial</th>\n",
       "      <th>fracas_du_bassin</th>\n",
       "      <th>catecholamines</th>\n",
       "      <th>pression_arterielle_systolique_PAS_arrivee_du_smur</th>\n",
       "      <th>pression_arterielle_diastolique_PAD_arrivee_du_smur</th>\n",
       "      <th>score_glasgow_initial</th>\n",
       "      <th>score_glasgow_moteur_initial</th>\n",
       "      <th>anomalie_pupillaire_prehospitalier</th>\n",
       "      <th>frequence_cardiaque_FC_arrivee_du_smur</th>\n",
       "      <th>arret_cardio_respiratoire_massage</th>\n",
       "      <th>penetrant_objet</th>\n",
       "      <th>ischemie_du_membre</th>\n",
       "      <th>hemorragie_externe</th>\n",
       "      <th>amputation</th>\n",
       "    </tr>\n",
       "  </thead>\n",
       "  <tbody>\n",
       "    <tr>\n",
       "      <th>0</th>\n",
       "      <td>52.0</td>\n",
       "      <td>NaN</td>\n",
       "      <td>0.0</td>\n",
       "      <td>0.0</td>\n",
       "      <td>87.0</td>\n",
       "      <td>49.0</td>\n",
       "      <td>15.0</td>\n",
       "      <td>6.0</td>\n",
       "      <td>0.0</td>\n",
       "      <td>56.0</td>\n",
       "      <td>0.0</td>\n",
       "      <td>0.0</td>\n",
       "      <td>0.0</td>\n",
       "      <td>0.0</td>\n",
       "      <td>0.0</td>\n",
       "    </tr>\n",
       "    <tr>\n",
       "      <th>1</th>\n",
       "      <td>23.0</td>\n",
       "      <td>NaN</td>\n",
       "      <td>0.0</td>\n",
       "      <td>0.0</td>\n",
       "      <td>100.0</td>\n",
       "      <td>60.0</td>\n",
       "      <td>15.0</td>\n",
       "      <td>6.0</td>\n",
       "      <td>0.0</td>\n",
       "      <td>100.0</td>\n",
       "      <td>0.0</td>\n",
       "      <td>0.0</td>\n",
       "      <td>0.0</td>\n",
       "      <td>0.0</td>\n",
       "      <td>0.0</td>\n",
       "    </tr>\n",
       "    <tr>\n",
       "      <th>2</th>\n",
       "      <td>42.0</td>\n",
       "      <td>13.1</td>\n",
       "      <td>0.0</td>\n",
       "      <td>0.0</td>\n",
       "      <td>101.0</td>\n",
       "      <td>64.0</td>\n",
       "      <td>14.0</td>\n",
       "      <td>6.0</td>\n",
       "      <td>0.0</td>\n",
       "      <td>120.0</td>\n",
       "      <td>0.0</td>\n",
       "      <td>0.0</td>\n",
       "      <td>0.0</td>\n",
       "      <td>0.0</td>\n",
       "      <td>0.0</td>\n",
       "    </tr>\n",
       "    <tr>\n",
       "      <th>3</th>\n",
       "      <td>34.0</td>\n",
       "      <td>15.8</td>\n",
       "      <td>0.0</td>\n",
       "      <td>0.0</td>\n",
       "      <td>110.0</td>\n",
       "      <td>71.0</td>\n",
       "      <td>15.0</td>\n",
       "      <td>6.0</td>\n",
       "      <td>0.0</td>\n",
       "      <td>107.0</td>\n",
       "      <td>0.0</td>\n",
       "      <td>0.0</td>\n",
       "      <td>0.0</td>\n",
       "      <td>0.0</td>\n",
       "      <td>0.0</td>\n",
       "    </tr>\n",
       "    <tr>\n",
       "      <th>4</th>\n",
       "      <td>22.0</td>\n",
       "      <td>NaN</td>\n",
       "      <td>0.0</td>\n",
       "      <td>0.0</td>\n",
       "      <td>114.0</td>\n",
       "      <td>79.0</td>\n",
       "      <td>NaN</td>\n",
       "      <td>NaN</td>\n",
       "      <td>0.0</td>\n",
       "      <td>83.0</td>\n",
       "      <td>0.0</td>\n",
       "      <td>0.0</td>\n",
       "      <td>0.0</td>\n",
       "      <td>0.0</td>\n",
       "      <td>0.0</td>\n",
       "    </tr>\n",
       "  </tbody>\n",
       "</table>\n",
       "</div>"
      ],
      "text/plain": [
       "    age  hemocue_initial  fracas_du_bassin  catecholamines  \\\n",
       "0  52.0              NaN               0.0             0.0   \n",
       "1  23.0              NaN               0.0             0.0   \n",
       "2  42.0             13.1               0.0             0.0   \n",
       "3  34.0             15.8               0.0             0.0   \n",
       "4  22.0              NaN               0.0             0.0   \n",
       "\n",
       "   pression_arterielle_systolique_PAS_arrivee_du_smur  \\\n",
       "0                                               87.0    \n",
       "1                                              100.0    \n",
       "2                                              101.0    \n",
       "3                                              110.0    \n",
       "4                                              114.0    \n",
       "\n",
       "   pression_arterielle_diastolique_PAD_arrivee_du_smur  score_glasgow_initial  \\\n",
       "0                                               49.0                     15.0   \n",
       "1                                               60.0                     15.0   \n",
       "2                                               64.0                     14.0   \n",
       "3                                               71.0                     15.0   \n",
       "4                                               79.0                      NaN   \n",
       "\n",
       "   score_glasgow_moteur_initial  anomalie_pupillaire_prehospitalier  \\\n",
       "0                           6.0                                 0.0   \n",
       "1                           6.0                                 0.0   \n",
       "2                           6.0                                 0.0   \n",
       "3                           6.0                                 0.0   \n",
       "4                           NaN                                 0.0   \n",
       "\n",
       "   frequence_cardiaque_FC_arrivee_du_smur  arret_cardio_respiratoire_massage  \\\n",
       "0                                    56.0                                0.0   \n",
       "1                                   100.0                                0.0   \n",
       "2                                   120.0                                0.0   \n",
       "3                                   107.0                                0.0   \n",
       "4                                    83.0                                0.0   \n",
       "\n",
       "   penetrant_objet  ischemie_du_membre  hemorragie_externe  amputation  \n",
       "0              0.0                 0.0                 0.0         0.0  \n",
       "1              0.0                 0.0                 0.0         0.0  \n",
       "2              0.0                 0.0                 0.0         0.0  \n",
       "3              0.0                 0.0                 0.0         0.0  \n",
       "4              0.0                 0.0                 0.0         0.0  "
      ]
     },
     "execution_count": 4,
     "metadata": {},
     "output_type": "execute_result"
    }
   ],
   "source": [
    "X_clinical_only = pd.read_csv(DATA_DIRECTORY+\"combined_clinical_data_volumes_outcome_TTS_LDDMM.csv\", usecols=range(16,31))\n",
    "X_clinical_only.head()"
   ]
  },
  {
   "cell_type": "code",
   "execution_count": 5,
   "metadata": {},
   "outputs": [
    {
     "data": {
      "text/html": [
       "<div>\n",
       "<style scoped>\n",
       "    .dataframe tbody tr th:only-of-type {\n",
       "        vertical-align: middle;\n",
       "    }\n",
       "\n",
       "    .dataframe tbody tr th {\n",
       "        vertical-align: top;\n",
       "    }\n",
       "\n",
       "    .dataframe thead th {\n",
       "        text-align: right;\n",
       "    }\n",
       "</style>\n",
       "<table border=\"1\" class=\"dataframe\">\n",
       "  <thead>\n",
       "    <tr style=\"text-align: right;\">\n",
       "      <th></th>\n",
       "      <th>outcome_neurochir_pic</th>\n",
       "    </tr>\n",
       "  </thead>\n",
       "  <tbody>\n",
       "    <tr>\n",
       "      <th>0</th>\n",
       "      <td>0.0</td>\n",
       "    </tr>\n",
       "    <tr>\n",
       "      <th>1</th>\n",
       "      <td>0.0</td>\n",
       "    </tr>\n",
       "    <tr>\n",
       "      <th>2</th>\n",
       "      <td>0.0</td>\n",
       "    </tr>\n",
       "    <tr>\n",
       "      <th>3</th>\n",
       "      <td>0.0</td>\n",
       "    </tr>\n",
       "    <tr>\n",
       "      <th>4</th>\n",
       "      <td>0.0</td>\n",
       "    </tr>\n",
       "  </tbody>\n",
       "</table>\n",
       "</div>"
      ],
      "text/plain": [
       "   outcome_neurochir_pic\n",
       "0                    0.0\n",
       "1                    0.0\n",
       "2                    0.0\n",
       "3                    0.0\n",
       "4                    0.0"
      ]
     },
     "execution_count": 5,
     "metadata": {},
     "output_type": "execute_result"
    }
   ],
   "source": [
    "y = pd.read_csv(DATA_DIRECTORY+\"combined_clinical_data_volumes_outcome_TTS_LDDMM.csv\", usecols=[31])\n",
    "y.head()"
   ]
  },
  {
   "cell_type": "code",
   "execution_count": 6,
   "metadata": {},
   "outputs": [
    {
     "name": "stdout",
     "output_type": "stream",
     "text": [
      "Index([59, 80, 106, 108, 117, 123, 130], dtype='int64')\n"
     ]
    }
   ],
   "source": [
    "nan_indexes = y.loc[pd.isna(y[\"outcome_neurochir_pic\"]), :].index # indexes where there is a nan value.\n",
    "print(nan_indexes)\n",
    "\n",
    "y = y.dropna()\n",
    "X_volumes_clinical = X_volumes_clinical.drop(nan_indexes)\n",
    "X_clinical_only = X_clinical_only.drop(nan_indexes)"
   ]
  },
  {
   "cell_type": "code",
   "execution_count": 7,
   "metadata": {},
   "outputs": [],
   "source": [
    "imp = SimpleImputer(missing_values=np.nan, strategy=\"median\")\n",
    "\n",
    "imp.fit(X_volumes_clinical)\n",
    "X_volumes_clinical = imp.transform(X_volumes_clinical)\n",
    "\n",
    "imp.fit(X_clinical_only)\n",
    "X_clinical_only = imp.transform(X_clinical_only)"
   ]
  },
  {
   "cell_type": "markdown",
   "metadata": {},
   "source": [
    "Take test set apart\n",
    "test set: 10% -> first 32 patients with 2 neurochir patients"
   ]
  },
  {
   "cell_type": "code",
   "execution_count": 8,
   "metadata": {},
   "outputs": [
    {
     "name": "stdout",
     "output_type": "stream",
     "text": [
      "Total nb of patients: 321\n",
      "Total nb of neurochir+pic: 19.0\n",
      "% of neurochir: 5.919003115264798%\n"
     ]
    }
   ],
   "source": [
    "list_outcome = list(y[\"outcome_neurochir_pic\"])\n",
    "\n",
    "print(f\"Total nb of patients: {len(list_outcome)}\")\n",
    "print(f\"Total nb of neurochir+pic: {np.sum(list_outcome)}\")\n",
    "print(f\"% of neurochir: {100*np.sum(list_outcome)/len(list_outcome)}%\")"
   ]
  },
  {
   "cell_type": "code",
   "execution_count": 9,
   "metadata": {},
   "outputs": [
    {
     "name": "stdout",
     "output_type": "stream",
     "text": [
      "321\n",
      "321\n"
     ]
    }
   ],
   "source": [
    "print(len(y))\n",
    "print(len(X_volumes_clinical))"
   ]
  },
  {
   "cell_type": "code",
   "execution_count": 10,
   "metadata": {},
   "outputs": [],
   "source": [
    "y = y['outcome_neurochir_pic'].to_numpy()\n",
    "y = [int(i) for i in y]\n",
    "\n",
    "y_test = y[:32]\n",
    "y_dev = y[32:]\n",
    "\n",
    "X_volumes_clinical_test = X_volumes_clinical[:32]\n",
    "X_volumes_clinical_dev = X_volumes_clinical[32:]\n",
    "\n",
    "X_clinical_only_test = X_clinical_only[:32]\n",
    "X_clinical_only_dev = X_clinical_only[32:]"
   ]
  },
  {
   "cell_type": "markdown",
   "metadata": {},
   "source": [
    "Training"
   ]
  },
  {
   "cell_type": "markdown",
   "metadata": {},
   "source": [
    "Clinical data only"
   ]
  },
  {
   "cell_type": "code",
   "execution_count": 11,
   "metadata": {},
   "outputs": [
    {
     "name": "stdout",
     "output_type": "stream",
     "text": [
      "289\n",
      "289\n",
      "---\n",
      "32\n",
      "32\n"
     ]
    }
   ],
   "source": [
    "print(len(y_dev))\n",
    "print(len(X_clinical_only_dev))\n",
    "\n",
    "print(\"---\")\n",
    "print(len(y_test))\n",
    "print(len(X_volumes_clinical_test))"
   ]
  },
  {
   "cell_type": "code",
   "execution_count": 12,
   "metadata": {},
   "outputs": [
    {
     "name": "stdout",
     "output_type": "stream",
     "text": [
      "Mean ROC AUC: 0.821\n",
      "Mean recall macro: 0.603\n"
     ]
    }
   ],
   "source": [
    "#model = DecisionTreeClassifier()\n",
    "model = HistGradientBoostingClassifier(categorical_features=[False, False, True, True, False, False, False, False, True, False, True, True, True, True, True])\n",
    "\n",
    "cv = RepeatedStratifiedKFold(n_splits=5, n_repeats=3, random_state=1)\n",
    "\n",
    "#scores = cross_val_score(model, X, y, scoring='roc_auc', cv=cv, n_jobs=-1)\n",
    "scores = cross_validate(model, X_clinical_only_dev, y_dev, scoring=['roc_auc', 'recall_macro'], cv=cv, n_jobs=-1)\n",
    "\n",
    "#print(scores)\n",
    "\n",
    "print('Mean ROC AUC: %.3f' % np.mean(scores['test_roc_auc']))\n",
    "print('Mean recall macro: %.3f' % np.mean(scores['test_recall_macro']))"
   ]
  },
  {
   "cell_type": "markdown",
   "metadata": {},
   "source": [
    "Segmentation volumes and clinical data"
   ]
  },
  {
   "cell_type": "code",
   "execution_count": 13,
   "metadata": {},
   "outputs": [
    {
     "name": "stdout",
     "output_type": "stream",
     "text": [
      "Mean ROC AUC: 0.934\n",
      "Mean recall macro: 0.625\n"
     ]
    }
   ],
   "source": [
    "#model = DecisionTreeClassifier()\n",
    "model = HistGradientBoostingClassifier(categorical_features=[False]*14 + [False, False, True, True, False, False, False, False, True, False, True, True, True, True, True])\n",
    "\n",
    "cv = RepeatedStratifiedKFold(n_splits=5, n_repeats=3, random_state=1)\n",
    "\n",
    "#scores = cross_val_score(model, X, y, scoring='roc_auc', cv=cv, n_jobs=-1)\n",
    "scores = cross_validate(model, X_volumes_clinical_dev, y_dev, scoring=['roc_auc', 'recall_macro'], cv=cv, n_jobs=-1)\n",
    "\n",
    "#print(scores)\n",
    "\n",
    "print('Mean ROC AUC: %.3f' % np.mean(scores['test_roc_auc']))\n",
    "print('Mean recall macro: %.3f' % np.mean(scores['test_recall_macro']))"
   ]
  },
  {
   "cell_type": "markdown",
   "metadata": {},
   "source": [
    "Test inference"
   ]
  },
  {
   "cell_type": "code",
   "execution_count": 14,
   "metadata": {},
   "outputs": [
    {
     "name": "stdout",
     "output_type": "stream",
     "text": [
      "[0 0 0 0 0 0 0 0 0 0 0 0 0 0 0 0 0 0 0 0 0 0 0 0 0 1 0 0 0 0 0 0]\n",
      "              precision    recall  f1-score   support\n",
      "\n",
      "           0       0.94      0.97      0.95        30\n",
      "           1       0.00      0.00      0.00         2\n",
      "\n",
      "    accuracy                           0.91        32\n",
      "   macro avg       0.47      0.48      0.48        32\n",
      "weighted avg       0.88      0.91      0.89        32\n",
      "\n"
     ]
    }
   ],
   "source": [
    "categorical = [False]*14 + [False, False, True, True, False, False, False, False, True, False, True, True, True, True, True]\n",
    "clf_clinical_volumes = HistGradientBoostingClassifier(categorical_features=categorical).fit(X_volumes_clinical_dev, y_dev)\n",
    "y_pred = clf_clinical_volumes.predict(X_volumes_clinical_test)\n",
    "print(y_pred)\n",
    "print(classification_report(y_pred=y_pred, y_true=y_test))"
   ]
  },
  {
   "cell_type": "code",
   "execution_count": 15,
   "metadata": {},
   "outputs": [
    {
     "name": "stdout",
     "output_type": "stream",
     "text": [
      "[0 0 0 0 0 0 0 0 0 0 0 1 0 0 0 0 0 0 0 0 0 0 0 0 0 0 0 0 0 0 0 0]\n",
      "              precision    recall  f1-score   support\n",
      "\n",
      "           0       0.97      1.00      0.98        30\n",
      "           1       1.00      0.50      0.67         2\n",
      "\n",
      "    accuracy                           0.97        32\n",
      "   macro avg       0.98      0.75      0.83        32\n",
      "weighted avg       0.97      0.97      0.96        32\n",
      "\n"
     ]
    }
   ],
   "source": [
    "categorical = [False, False, True, True, False, False, False, False, True, False, True, True, True, True, True]\n",
    "clf_clinical_only = HistGradientBoostingClassifier(categorical_features=categorical).fit(X_clinical_only_dev, y_dev)\n",
    "y_pred = clf_clinical_only.predict(X_clinical_only_test)\n",
    "print(y_pred)\n",
    "print(classification_report(y_pred=y_pred, y_true=y_test))"
   ]
  },
  {
   "cell_type": "code",
   "execution_count": null,
   "metadata": {},
   "outputs": [],
   "source": []
  }
 ],
 "metadata": {
  "kernelspec": {
   "display_name": "general_env",
   "language": "python",
   "name": "general_env"
  },
  "language_info": {
   "codemirror_mode": {
    "name": "ipython",
    "version": 3
   },
   "file_extension": ".py",
   "mimetype": "text/x-python",
   "name": "python",
   "nbconvert_exporter": "python",
   "pygments_lexer": "ipython3",
   "version": "3.10.12"
  }
 },
 "nbformat": 4,
 "nbformat_minor": 2
}
