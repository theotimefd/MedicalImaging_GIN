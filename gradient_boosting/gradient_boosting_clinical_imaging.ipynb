{
 "cells": [
  {
   "cell_type": "code",
   "execution_count": 1,
   "metadata": {},
   "outputs": [],
   "source": [
    "import sys\n",
    "#sys.path.append(\"/home/fehrdelt/data_ssd/MedicalImaging_GIN/gradient_boosting\")\n",
    "sys.path.append(\"/home/fehrdelt/data_ssd/MedicalImaging_GIN/gradient_boosting\")\n",
    "\n",
    "import os\n",
    "import lightgbm as lgb\n",
    "import pandas as pd\n",
    "import numpy as np\n",
    "\n",
    "from sklearn.model_selection import train_test_split\n",
    "from sklearn.model_selection import cross_val_score\n",
    "from sklearn.model_selection import cross_validate\n",
    "from sklearn.model_selection import RepeatedStratifiedKFold\n",
    "from sklearn.metrics import accuracy_score\n",
    "from sklearn.metrics import classification_report\n",
    "\n",
    "\n",
    "from sklearn.impute import SimpleImputer\n",
    "\n",
    "from sklearn.tree import DecisionTreeClassifier\n",
    "from sklearn.ensemble import HistGradientBoostingClassifier\n",
    "\n",
    "from imblearn.pipeline import Pipeline\n",
    "from imblearn.over_sampling import SMOTE\n",
    "from imblearn.under_sampling import RandomUnderSampler\n",
    "\n",
    "from sklearn.manifold import TSNE\n",
    "import umap\n",
    "\n",
    "import matplotlib.pyplot as plt\n",
    "\n",
    "\n"
   ]
  },
  {
   "cell_type": "code",
   "execution_count": 2,
   "metadata": {},
   "outputs": [],
   "source": [
    "#DATA_DIRECTORY = \"/home/fehrdelt/data_ssd/data/clinical_data/Full/\"\n",
    "DATA_DIRECTORY = \"C:\\\\Users\\\\Rivage\\\\Documents\\\\1\\\\programmation\\\\PFE\\\\clinical_data\\\\Full\\\\\""
   ]
  },
  {
   "cell_type": "code",
   "execution_count": 3,
   "metadata": {},
   "outputs": [
    {
     "data": {
      "text/html": [
       "<div>\n",
       "<style scoped>\n",
       "    .dataframe tbody tr th:only-of-type {\n",
       "        vertical-align: middle;\n",
       "    }\n",
       "\n",
       "    .dataframe tbody tr th {\n",
       "        vertical-align: top;\n",
       "    }\n",
       "\n",
       "    .dataframe thead th {\n",
       "        text-align: right;\n",
       "    }\n",
       "</style>\n",
       "<table border=\"1\" class=\"dataframe\">\n",
       "  <thead>\n",
       "    <tr style=\"text-align: right;\">\n",
       "      <th></th>\n",
       "      <th>supratentorial_IPH</th>\n",
       "      <th>supratentorial_SAH</th>\n",
       "      <th>supratentorial_Petechiae</th>\n",
       "      <th>supratentorial_Edema</th>\n",
       "      <th>infratentorial_IPH</th>\n",
       "      <th>infratentorial_SAH</th>\n",
       "      <th>infratentorial_Petechiae</th>\n",
       "      <th>infratentorial_Edema</th>\n",
       "      <th>brainstem_IPH</th>\n",
       "      <th>brainstem_SAH</th>\n",
       "      <th>...</th>\n",
       "      <th>pression_arterielle_diastolique_PAD_arrivee_du_smur</th>\n",
       "      <th>score_glasgow_initial</th>\n",
       "      <th>score_glasgow_moteur_initial</th>\n",
       "      <th>anomalie_pupillaire_prehospitalier</th>\n",
       "      <th>frequence_cardiaque_FC_arrivee_du_smur</th>\n",
       "      <th>arret_cardio_respiratoire_massage</th>\n",
       "      <th>penetrant_objet</th>\n",
       "      <th>ischemie_du_membre</th>\n",
       "      <th>hemorragie_externe</th>\n",
       "      <th>amputation</th>\n",
       "    </tr>\n",
       "  </thead>\n",
       "  <tbody>\n",
       "    <tr>\n",
       "      <th>0</th>\n",
       "      <td>0</td>\n",
       "      <td>340</td>\n",
       "      <td>0</td>\n",
       "      <td>0</td>\n",
       "      <td>0</td>\n",
       "      <td>15</td>\n",
       "      <td>0</td>\n",
       "      <td>0</td>\n",
       "      <td>0</td>\n",
       "      <td>0</td>\n",
       "      <td>...</td>\n",
       "      <td>49.0</td>\n",
       "      <td>15.0</td>\n",
       "      <td>6.0</td>\n",
       "      <td>0.0</td>\n",
       "      <td>56.0</td>\n",
       "      <td>0.0</td>\n",
       "      <td>0.0</td>\n",
       "      <td>0.0</td>\n",
       "      <td>0.0</td>\n",
       "      <td>0.0</td>\n",
       "    </tr>\n",
       "    <tr>\n",
       "      <th>1</th>\n",
       "      <td>0</td>\n",
       "      <td>0</td>\n",
       "      <td>0</td>\n",
       "      <td>0</td>\n",
       "      <td>0</td>\n",
       "      <td>0</td>\n",
       "      <td>0</td>\n",
       "      <td>0</td>\n",
       "      <td>0</td>\n",
       "      <td>0</td>\n",
       "      <td>...</td>\n",
       "      <td>60.0</td>\n",
       "      <td>15.0</td>\n",
       "      <td>6.0</td>\n",
       "      <td>0.0</td>\n",
       "      <td>100.0</td>\n",
       "      <td>0.0</td>\n",
       "      <td>0.0</td>\n",
       "      <td>0.0</td>\n",
       "      <td>0.0</td>\n",
       "      <td>0.0</td>\n",
       "    </tr>\n",
       "    <tr>\n",
       "      <th>2</th>\n",
       "      <td>0</td>\n",
       "      <td>70</td>\n",
       "      <td>0</td>\n",
       "      <td>0</td>\n",
       "      <td>0</td>\n",
       "      <td>0</td>\n",
       "      <td>0</td>\n",
       "      <td>0</td>\n",
       "      <td>0</td>\n",
       "      <td>0</td>\n",
       "      <td>...</td>\n",
       "      <td>64.0</td>\n",
       "      <td>14.0</td>\n",
       "      <td>6.0</td>\n",
       "      <td>0.0</td>\n",
       "      <td>120.0</td>\n",
       "      <td>0.0</td>\n",
       "      <td>0.0</td>\n",
       "      <td>0.0</td>\n",
       "      <td>0.0</td>\n",
       "      <td>0.0</td>\n",
       "    </tr>\n",
       "    <tr>\n",
       "      <th>3</th>\n",
       "      <td>0</td>\n",
       "      <td>289</td>\n",
       "      <td>0</td>\n",
       "      <td>0</td>\n",
       "      <td>0</td>\n",
       "      <td>0</td>\n",
       "      <td>0</td>\n",
       "      <td>0</td>\n",
       "      <td>0</td>\n",
       "      <td>0</td>\n",
       "      <td>...</td>\n",
       "      <td>71.0</td>\n",
       "      <td>15.0</td>\n",
       "      <td>6.0</td>\n",
       "      <td>0.0</td>\n",
       "      <td>107.0</td>\n",
       "      <td>0.0</td>\n",
       "      <td>0.0</td>\n",
       "      <td>0.0</td>\n",
       "      <td>0.0</td>\n",
       "      <td>0.0</td>\n",
       "    </tr>\n",
       "    <tr>\n",
       "      <th>4</th>\n",
       "      <td>0</td>\n",
       "      <td>10</td>\n",
       "      <td>0</td>\n",
       "      <td>15</td>\n",
       "      <td>0</td>\n",
       "      <td>0</td>\n",
       "      <td>0</td>\n",
       "      <td>0</td>\n",
       "      <td>0</td>\n",
       "      <td>0</td>\n",
       "      <td>...</td>\n",
       "      <td>79.0</td>\n",
       "      <td>NaN</td>\n",
       "      <td>NaN</td>\n",
       "      <td>0.0</td>\n",
       "      <td>83.0</td>\n",
       "      <td>0.0</td>\n",
       "      <td>0.0</td>\n",
       "      <td>0.0</td>\n",
       "      <td>0.0</td>\n",
       "      <td>0.0</td>\n",
       "    </tr>\n",
       "  </tbody>\n",
       "</table>\n",
       "<p>5 rows × 29 columns</p>\n",
       "</div>"
      ],
      "text/plain": [
       "   supratentorial_IPH  supratentorial_SAH  supratentorial_Petechiae  \\\n",
       "0                   0                 340                         0   \n",
       "1                   0                   0                         0   \n",
       "2                   0                  70                         0   \n",
       "3                   0                 289                         0   \n",
       "4                   0                  10                         0   \n",
       "\n",
       "   supratentorial_Edema  infratentorial_IPH  infratentorial_SAH  \\\n",
       "0                     0                   0                  15   \n",
       "1                     0                   0                   0   \n",
       "2                     0                   0                   0   \n",
       "3                     0                   0                   0   \n",
       "4                    15                   0                   0   \n",
       "\n",
       "   infratentorial_Petechiae  infratentorial_Edema  brainstem_IPH  \\\n",
       "0                         0                     0              0   \n",
       "1                         0                     0              0   \n",
       "2                         0                     0              0   \n",
       "3                         0                     0              0   \n",
       "4                         0                     0              0   \n",
       "\n",
       "   brainstem_SAH  ...  pression_arterielle_diastolique_PAD_arrivee_du_smur  \\\n",
       "0              0  ...                                               49.0     \n",
       "1              0  ...                                               60.0     \n",
       "2              0  ...                                               64.0     \n",
       "3              0  ...                                               71.0     \n",
       "4              0  ...                                               79.0     \n",
       "\n",
       "   score_glasgow_initial  score_glasgow_moteur_initial  \\\n",
       "0                   15.0                           6.0   \n",
       "1                   15.0                           6.0   \n",
       "2                   14.0                           6.0   \n",
       "3                   15.0                           6.0   \n",
       "4                    NaN                           NaN   \n",
       "\n",
       "   anomalie_pupillaire_prehospitalier  frequence_cardiaque_FC_arrivee_du_smur  \\\n",
       "0                                 0.0                                    56.0   \n",
       "1                                 0.0                                   100.0   \n",
       "2                                 0.0                                   120.0   \n",
       "3                                 0.0                                   107.0   \n",
       "4                                 0.0                                    83.0   \n",
       "\n",
       "   arret_cardio_respiratoire_massage  penetrant_objet  ischemie_du_membre  \\\n",
       "0                                0.0              0.0                 0.0   \n",
       "1                                0.0              0.0                 0.0   \n",
       "2                                0.0              0.0                 0.0   \n",
       "3                                0.0              0.0                 0.0   \n",
       "4                                0.0              0.0                 0.0   \n",
       "\n",
       "   hemorragie_externe  amputation  \n",
       "0                 0.0         0.0  \n",
       "1                 0.0         0.0  \n",
       "2                 0.0         0.0  \n",
       "3                 0.0         0.0  \n",
       "4                 0.0         0.0  \n",
       "\n",
       "[5 rows x 29 columns]"
      ]
     },
     "execution_count": 3,
     "metadata": {},
     "output_type": "execute_result"
    }
   ],
   "source": [
    "X_volumes_clinical = pd.read_csv(DATA_DIRECTORY+\"combined_clinical_data_volumes_outcome_matlab_ANTS.csv\", usecols=range(2,31))\n",
    "X_volumes_clinical.head()"
   ]
  },
  {
   "cell_type": "code",
   "execution_count": 4,
   "metadata": {},
   "outputs": [
    {
     "data": {
      "text/html": [
       "<div>\n",
       "<style scoped>\n",
       "    .dataframe tbody tr th:only-of-type {\n",
       "        vertical-align: middle;\n",
       "    }\n",
       "\n",
       "    .dataframe tbody tr th {\n",
       "        vertical-align: top;\n",
       "    }\n",
       "\n",
       "    .dataframe thead th {\n",
       "        text-align: right;\n",
       "    }\n",
       "</style>\n",
       "<table border=\"1\" class=\"dataframe\">\n",
       "  <thead>\n",
       "    <tr style=\"text-align: right;\">\n",
       "      <th></th>\n",
       "      <th>age</th>\n",
       "      <th>hemocue_initial</th>\n",
       "      <th>fracas_du_bassin</th>\n",
       "      <th>catecholamines</th>\n",
       "      <th>pression_arterielle_systolique_PAS_arrivee_du_smur</th>\n",
       "      <th>pression_arterielle_diastolique_PAD_arrivee_du_smur</th>\n",
       "      <th>score_glasgow_initial</th>\n",
       "      <th>score_glasgow_moteur_initial</th>\n",
       "      <th>anomalie_pupillaire_prehospitalier</th>\n",
       "      <th>frequence_cardiaque_FC_arrivee_du_smur</th>\n",
       "      <th>arret_cardio_respiratoire_massage</th>\n",
       "      <th>penetrant_objet</th>\n",
       "      <th>ischemie_du_membre</th>\n",
       "      <th>hemorragie_externe</th>\n",
       "      <th>amputation</th>\n",
       "    </tr>\n",
       "  </thead>\n",
       "  <tbody>\n",
       "    <tr>\n",
       "      <th>0</th>\n",
       "      <td>52.0</td>\n",
       "      <td>NaN</td>\n",
       "      <td>0.0</td>\n",
       "      <td>0.0</td>\n",
       "      <td>87.0</td>\n",
       "      <td>49.0</td>\n",
       "      <td>15.0</td>\n",
       "      <td>6.0</td>\n",
       "      <td>0.0</td>\n",
       "      <td>56.0</td>\n",
       "      <td>0.0</td>\n",
       "      <td>0.0</td>\n",
       "      <td>0.0</td>\n",
       "      <td>0.0</td>\n",
       "      <td>0.0</td>\n",
       "    </tr>\n",
       "    <tr>\n",
       "      <th>1</th>\n",
       "      <td>23.0</td>\n",
       "      <td>NaN</td>\n",
       "      <td>0.0</td>\n",
       "      <td>0.0</td>\n",
       "      <td>100.0</td>\n",
       "      <td>60.0</td>\n",
       "      <td>15.0</td>\n",
       "      <td>6.0</td>\n",
       "      <td>0.0</td>\n",
       "      <td>100.0</td>\n",
       "      <td>0.0</td>\n",
       "      <td>0.0</td>\n",
       "      <td>0.0</td>\n",
       "      <td>0.0</td>\n",
       "      <td>0.0</td>\n",
       "    </tr>\n",
       "    <tr>\n",
       "      <th>2</th>\n",
       "      <td>42.0</td>\n",
       "      <td>13.1</td>\n",
       "      <td>0.0</td>\n",
       "      <td>0.0</td>\n",
       "      <td>101.0</td>\n",
       "      <td>64.0</td>\n",
       "      <td>14.0</td>\n",
       "      <td>6.0</td>\n",
       "      <td>0.0</td>\n",
       "      <td>120.0</td>\n",
       "      <td>0.0</td>\n",
       "      <td>0.0</td>\n",
       "      <td>0.0</td>\n",
       "      <td>0.0</td>\n",
       "      <td>0.0</td>\n",
       "    </tr>\n",
       "    <tr>\n",
       "      <th>3</th>\n",
       "      <td>34.0</td>\n",
       "      <td>15.8</td>\n",
       "      <td>0.0</td>\n",
       "      <td>0.0</td>\n",
       "      <td>110.0</td>\n",
       "      <td>71.0</td>\n",
       "      <td>15.0</td>\n",
       "      <td>6.0</td>\n",
       "      <td>0.0</td>\n",
       "      <td>107.0</td>\n",
       "      <td>0.0</td>\n",
       "      <td>0.0</td>\n",
       "      <td>0.0</td>\n",
       "      <td>0.0</td>\n",
       "      <td>0.0</td>\n",
       "    </tr>\n",
       "    <tr>\n",
       "      <th>4</th>\n",
       "      <td>22.0</td>\n",
       "      <td>NaN</td>\n",
       "      <td>0.0</td>\n",
       "      <td>0.0</td>\n",
       "      <td>114.0</td>\n",
       "      <td>79.0</td>\n",
       "      <td>NaN</td>\n",
       "      <td>NaN</td>\n",
       "      <td>0.0</td>\n",
       "      <td>83.0</td>\n",
       "      <td>0.0</td>\n",
       "      <td>0.0</td>\n",
       "      <td>0.0</td>\n",
       "      <td>0.0</td>\n",
       "      <td>0.0</td>\n",
       "    </tr>\n",
       "  </tbody>\n",
       "</table>\n",
       "</div>"
      ],
      "text/plain": [
       "    age  hemocue_initial  fracas_du_bassin  catecholamines  \\\n",
       "0  52.0              NaN               0.0             0.0   \n",
       "1  23.0              NaN               0.0             0.0   \n",
       "2  42.0             13.1               0.0             0.0   \n",
       "3  34.0             15.8               0.0             0.0   \n",
       "4  22.0              NaN               0.0             0.0   \n",
       "\n",
       "   pression_arterielle_systolique_PAS_arrivee_du_smur  \\\n",
       "0                                               87.0    \n",
       "1                                              100.0    \n",
       "2                                              101.0    \n",
       "3                                              110.0    \n",
       "4                                              114.0    \n",
       "\n",
       "   pression_arterielle_diastolique_PAD_arrivee_du_smur  score_glasgow_initial  \\\n",
       "0                                               49.0                     15.0   \n",
       "1                                               60.0                     15.0   \n",
       "2                                               64.0                     14.0   \n",
       "3                                               71.0                     15.0   \n",
       "4                                               79.0                      NaN   \n",
       "\n",
       "   score_glasgow_moteur_initial  anomalie_pupillaire_prehospitalier  \\\n",
       "0                           6.0                                 0.0   \n",
       "1                           6.0                                 0.0   \n",
       "2                           6.0                                 0.0   \n",
       "3                           6.0                                 0.0   \n",
       "4                           NaN                                 0.0   \n",
       "\n",
       "   frequence_cardiaque_FC_arrivee_du_smur  arret_cardio_respiratoire_massage  \\\n",
       "0                                    56.0                                0.0   \n",
       "1                                   100.0                                0.0   \n",
       "2                                   120.0                                0.0   \n",
       "3                                   107.0                                0.0   \n",
       "4                                    83.0                                0.0   \n",
       "\n",
       "   penetrant_objet  ischemie_du_membre  hemorragie_externe  amputation  \n",
       "0              0.0                 0.0                 0.0         0.0  \n",
       "1              0.0                 0.0                 0.0         0.0  \n",
       "2              0.0                 0.0                 0.0         0.0  \n",
       "3              0.0                 0.0                 0.0         0.0  \n",
       "4              0.0                 0.0                 0.0         0.0  "
      ]
     },
     "execution_count": 4,
     "metadata": {},
     "output_type": "execute_result"
    }
   ],
   "source": [
    "X_clinical_only = pd.read_csv(DATA_DIRECTORY+\"combined_clinical_data_volumes_outcome_matlab_ANTS_hist_match.csv\", usecols=range(16,31))\n",
    "X_clinical_only.head()"
   ]
  },
  {
   "cell_type": "code",
   "execution_count": 5,
   "metadata": {},
   "outputs": [
    {
     "data": {
      "text/html": [
       "<div>\n",
       "<style scoped>\n",
       "    .dataframe tbody tr th:only-of-type {\n",
       "        vertical-align: middle;\n",
       "    }\n",
       "\n",
       "    .dataframe tbody tr th {\n",
       "        vertical-align: top;\n",
       "    }\n",
       "\n",
       "    .dataframe thead th {\n",
       "        text-align: right;\n",
       "    }\n",
       "</style>\n",
       "<table border=\"1\" class=\"dataframe\">\n",
       "  <thead>\n",
       "    <tr style=\"text-align: right;\">\n",
       "      <th></th>\n",
       "      <th>outcome_neurochir_pic</th>\n",
       "    </tr>\n",
       "  </thead>\n",
       "  <tbody>\n",
       "    <tr>\n",
       "      <th>0</th>\n",
       "      <td>0.0</td>\n",
       "    </tr>\n",
       "    <tr>\n",
       "      <th>1</th>\n",
       "      <td>0.0</td>\n",
       "    </tr>\n",
       "    <tr>\n",
       "      <th>2</th>\n",
       "      <td>0.0</td>\n",
       "    </tr>\n",
       "    <tr>\n",
       "      <th>3</th>\n",
       "      <td>0.0</td>\n",
       "    </tr>\n",
       "    <tr>\n",
       "      <th>4</th>\n",
       "      <td>0.0</td>\n",
       "    </tr>\n",
       "  </tbody>\n",
       "</table>\n",
       "</div>"
      ],
      "text/plain": [
       "   outcome_neurochir_pic\n",
       "0                    0.0\n",
       "1                    0.0\n",
       "2                    0.0\n",
       "3                    0.0\n",
       "4                    0.0"
      ]
     },
     "execution_count": 5,
     "metadata": {},
     "output_type": "execute_result"
    }
   ],
   "source": [
    "y = pd.read_csv(DATA_DIRECTORY+\"combined_clinical_data_volumes_outcome_matlab_ANTS_hist_match.csv\", usecols=[31])\n",
    "y.head()"
   ]
  },
  {
   "cell_type": "markdown",
   "metadata": {},
   "source": [
    "Drop rows where there is no outcome and impute missing values by median"
   ]
  },
  {
   "cell_type": "code",
   "execution_count": 6,
   "metadata": {},
   "outputs": [
    {
     "name": "stdout",
     "output_type": "stream",
     "text": [
      "Index([76, 102, 104, 113, 118, 125], dtype='int64')\n"
     ]
    }
   ],
   "source": [
    "nan_indexes = y.loc[pd.isna(y[\"outcome_neurochir_pic\"]), :].index # indexes where there is a nan value.\n",
    "print(nan_indexes)\n",
    "\n",
    "y = y.dropna()\n",
    "X_volumes_clinical = X_volumes_clinical.drop(nan_indexes)\n",
    "X_clinical_only = X_clinical_only.drop(nan_indexes)"
   ]
  },
  {
   "cell_type": "code",
   "execution_count": 7,
   "metadata": {},
   "outputs": [],
   "source": [
    "imp = SimpleImputer(missing_values=np.nan, strategy=\"median\")\n",
    "\n",
    "imp.fit(X_volumes_clinical)\n",
    "X_volumes_clinical = imp.transform(X_volumes_clinical)\n",
    "\n",
    "imp.fit(X_clinical_only)\n",
    "X_clinical_only = imp.transform(X_clinical_only)"
   ]
  },
  {
   "cell_type": "code",
   "execution_count": 8,
   "metadata": {},
   "outputs": [
    {
     "name": "stdout",
     "output_type": "stream",
     "text": [
      "495\n",
      "495\n"
     ]
    }
   ],
   "source": [
    "print(len(y))\n",
    "print(len(X_volumes_clinical))\n",
    "nb_total_samples = len(X_volumes_clinical)"
   ]
  },
  {
   "cell_type": "code",
   "execution_count": 9,
   "metadata": {},
   "outputs": [],
   "source": [
    "y = y['outcome_neurochir_pic'].to_numpy()\n",
    "y = [int(i) for i in y]"
   ]
  },
  {
   "cell_type": "markdown",
   "metadata": {},
   "source": [
    "#### Training without dealing with class imbalance"
   ]
  },
  {
   "cell_type": "markdown",
   "metadata": {},
   "source": [
    "Clinical data only"
   ]
  },
  {
   "cell_type": "code",
   "execution_count": 10,
   "metadata": {},
   "outputs": [],
   "source": [
    "FOLDS = 5\n",
    "N_REPEATS = 3"
   ]
  },
  {
   "cell_type": "code",
   "execution_count": 22,
   "metadata": {},
   "outputs": [
    {
     "name": "stdout",
     "output_type": "stream",
     "text": [
      "5 fold cross validation\n",
      "Mean ROC AUC: 0.8155107855107856, std: 0.05209806147754629\n",
      "Mean recall macro: 0.5837739112739112, std: 0.06391323132180331\n",
      "f1 score: 0.23754930254930254, std: 0.13144869083547778\n"
     ]
    }
   ],
   "source": [
    "#model = DecisionTreeClassifier()\n",
    "model = HistGradientBoostingClassifier(categorical_features=[False, False, True, True, False, False, False, False, True, False, True, True, True, True, True])\n",
    "\n",
    "cv = RepeatedStratifiedKFold(n_splits=FOLDS, n_repeats=N_REPEATS, random_state=1)\n",
    "\n",
    "#scores = cross_val_score(model, X, y, scoring='roc_auc', cv=cv, n_jobs=-1)\n",
    "scores = cross_validate(model, X_clinical_only, y, scoring=['roc_auc', 'recall_macro', 'f1'], cv=cv, n_jobs=-1)\n",
    "\n",
    "#print(scores)\n",
    "\n",
    "print(\"5 fold cross validation\")\n",
    "print(f'Mean ROC AUC: {np.mean(scores[\"test_roc_auc\"])}, std: {np.std(scores[\"test_roc_auc\"])}')\n",
    "print(f'Mean recall macro: {np.mean(scores[\"test_recall_macro\"])}, std: {np.std(scores[\"test_recall_macro\"])}')\n",
    "print(f'f1 score: {np.mean(scores[\"test_f1\"])}, std: {np.std(scores[\"test_f1\"])}')"
   ]
  },
  {
   "cell_type": "markdown",
   "metadata": {},
   "source": [
    "Segmentation volumes and clinical data"
   ]
  },
  {
   "cell_type": "code",
   "execution_count": 23,
   "metadata": {},
   "outputs": [
    {
     "name": "stdout",
     "output_type": "stream",
     "text": [
      "5 fold cross validation\n",
      "Mean ROC AUC: 0.8624164518608964, std: 0.04828990175000815\n",
      "Mean recall macro: 0.6162169312169312, std: 0.05687537512566737\n",
      "f1 score: 0.3277574277574278, std: 0.14190082118586195\n"
     ]
    }
   ],
   "source": [
    "#model = DecisionTreeClassifier()\n",
    "model = HistGradientBoostingClassifier(categorical_features=[False]*14 + [False, False, True, True, False, False, False, False, True, False, True, True, True, True, True])\n",
    "\n",
    "cv = RepeatedStratifiedKFold(n_splits=FOLDS, n_repeats=N_REPEATS, random_state=1)\n",
    "\n",
    "#scores = cross_val_score(model, X, y, scoring='roc_auc', cv=cv, n_jobs=-1)\n",
    "scores = cross_validate(model, X_volumes_clinical, y, scoring=['roc_auc', 'recall_macro', 'f1'], cv=cv, n_jobs=-1)\n",
    "\n",
    "#print(scores)\n",
    "\n",
    "print(\"5 fold cross validation\")\n",
    "print(f'Mean ROC AUC: {np.mean(scores[\"test_roc_auc\"])}, std: {np.std(scores[\"test_roc_auc\"])}')\n",
    "print(f'Mean recall macro: {np.mean(scores[\"test_recall_macro\"])}, std: {np.std(scores[\"test_recall_macro\"])}')\n",
    "print(f'f1 score: {np.mean(scores[\"test_f1\"])}, std: {np.std(scores[\"test_f1\"])}')"
   ]
  },
  {
   "cell_type": "markdown",
   "metadata": {},
   "source": [
    "#### With SMOTE oversampling and randomUnderSampling\n",
    "SMOTE(sampling_strategy=0.1) & RandomUnderSampler(sampling_strategy=0.5)\n",
    "\n",
    "Using imblearn.Pipeline, the over and undersampling is only applied during fit"
   ]
  },
  {
   "cell_type": "code",
   "execution_count": 24,
   "metadata": {},
   "outputs": [
    {
     "data": {
      "text/plain": [
       "Text(0, 0.5, 't_SNE component 2')"
      ]
     },
     "execution_count": 24,
     "metadata": {},
     "output_type": "execute_result"
    },
    {
     "data": {
      "image/png": "[encoded data removed]",
      "text/plain": [
       "<Figure size 640x480 with 1 Axes>"
      ]
     },
     "metadata": {},
     "output_type": "display_data"
    }
   ],
   "source": [
    "oversample = SMOTE()\n",
    "pipeline_visu_smote_under = Pipeline(steps=[('over', SMOTE(sampling_strategy=0.1)), ('under', RandomUnderSampler(sampling_strategy=0.5))])\n",
    "X_over_under_visu, y_over_under_visu = pipeline_visu_smote_under.fit_resample(X_volumes_clinical, y)\n",
    "\n",
    "tsne = TSNE(n_components=2, random_state=42)\n",
    "tsne_results = tsne.fit_transform(X_over_under_visu)\n",
    "\n",
    "fig, ax = plt.subplots()\n",
    "\n",
    "scatter = ax.scatter(tsne_results[:, 0], tsne_results[:, 1], c=y_over_under_visu, cmap='bwr')\n",
    "legend = ax.legend(*scatter.legend_elements(), title=\"Neurosurgery or no\")\n",
    "plt.xlabel('t_SNE component 1')\n",
    "plt.ylabel('t_SNE component 2')"
   ]
  },
  {
   "cell_type": "code",
   "execution_count": 25,
   "metadata": {},
   "outputs": [
    {
     "data": {
      "text/plain": [
       "Text(0, 0.5, 'UMAP component 2')"
      ]
     },
     "execution_count": 25,
     "metadata": {},
     "output_type": "execute_result"
    },
    {
     "data": {
      "image/png": "[encoded data removed]",
      "text/plain": [
       "<Figure size 640x480 with 1 Axes>"
      ]
     },
     "metadata": {},
     "output_type": "display_data"
    }
   ],
   "source": [
    "umap_model = umap.UMAP(n_neighbors=5, min_dist=0.6, n_components=2)\n",
    "X_umap_over_under = umap_model.fit_transform(X_over_under_visu)\n",
    "\n",
    "\n",
    "fig, ax = plt.subplots()\n",
    "\n",
    "scatter = ax.scatter(X_umap_over_under[:, 0], X_umap_over_under[:, 1], c=y_over_under_visu, cmap='bwr')\n",
    "legend = ax.legend(*scatter.legend_elements(), title=\"Neurosurgery or no\")\n",
    "plt.xlabel('UMAP component 1')\n",
    "plt.ylabel('UMAP component 2')"
   ]
  },
  {
   "cell_type": "markdown",
   "metadata": {},
   "source": [
    "https://scikit-learn.org/stable/modules/cross_validation.html\n",
    "\n",
    "https://scikit-learn.org/stable/modules/grid_search.html "
   ]
  },
  {
   "cell_type": "code",
   "execution_count": 11,
   "metadata": {},
   "outputs": [],
   "source": [
    "from sklearn.metrics import fbeta_score, make_scorer\n",
    "from sklearn.metrics import confusion_matrix\n",
    "\n",
    "ftwo_scorer = make_scorer(fbeta_score, beta=2)\n",
    "\n",
    "def confusion_matrix_scorer(clf, X, y):\n",
    "\n",
    "     y_pred = clf.predict(X)\n",
    "     cm = confusion_matrix(y, y_pred)\n",
    "\n",
    "     return {'tn': cm[0, 0], 'fp': cm[0, 1],\n",
    "             'fn': cm[1, 0], 'tp': cm[1, 1]}\n",
    "\n",
    "def false_neg_scorer(clf, X, y):\n",
    "\n",
    "     y_pred = clf.predict(X)\n",
    "     cm = confusion_matrix(y, y_pred)\n",
    "     \n",
    "     return cm[1, 0]\n",
    "\n",
    "def false_pos_scorer(clf, X, y):\n",
    "\n",
    "     y_pred = clf.predict(X)\n",
    "     cm = confusion_matrix(y, y_pred)\n",
    "     \n",
    "     return cm[0, 1]"
   ]
  },
  {
   "cell_type": "code",
   "execution_count": 47,
   "metadata": {},
   "outputs": [
    {
     "name": "stdout",
     "output_type": "stream",
     "text": [
      "Results on clinical data and segmentation volumes using scikit-learn HistGradientBoostingClassifier\n",
      "396 train - 99 test\n",
      "---------------------\n",
      "Variables: 29\n",
      "AUC (max): 0.87\n",
      "F1 Score (max): 0.44\n",
      "F2 Score (max): 0.54\n",
      "Brier Score (min): 0.11\n",
      "False negative %: 3%\n",
      "False positive %: 11%\n",
      "Execution time: < 10min\n"
     ]
    }
   ],
   "source": [
    "#pipeline = Pipeline(steps=[('over', SMOTE()), ('model', DecisionTreeClassifier())])\n",
    "pipeline_smote_under = Pipeline(steps=[('over', SMOTE(sampling_strategy=0.1)), ('under', RandomUnderSampler(sampling_strategy=0.5)), ('model', HistGradientBoostingClassifier(categorical_features=[False]*14+[False, False, True, True, False, False, False, False, True, False, True, True, True, True, True]))])\n",
    "\n",
    "cv = RepeatedStratifiedKFold(n_splits=FOLDS, n_repeats=N_REPEATS, random_state=1)\n",
    "\n",
    "#scores = cross_val_score(pipeline, X, y, scoring='roc_auc', cv=cv, n_jobs=-1)\n",
    "scores_smote_undersampling = cross_validate(pipeline_smote_under, X_volumes_clinical, y, scoring={'F2':ftwo_scorer, 'ROC_AUC':'roc_auc', 'Recall':'recall_macro', 'F1':'f1', 'Brier':\"neg_brier_score\", 'False_neg_scorer':false_neg_scorer, 'False_pos_scorer':false_pos_scorer}, cv=cv, n_jobs=-1)\n",
    "\n",
    "\n",
    "print(\"Results on clinical data and segmentation volumes using scikit-learn HistGradientBoostingClassifier\")\n",
    "print(f\"{int(nb_total_samples*(1-1/FOLDS))} train - {int(nb_total_samples/FOLDS)} test\")\n",
    "print(\"---------------------\")\n",
    "print(f\"Variables: {len([False]*14+[False, False, True, True, False, False, False, False, True, False, True, True, True, True, True])}\")\n",
    "\n",
    "roc_auc_metric = np.mean(scores_smote_undersampling[\"test_ROC_AUC\"])\n",
    "print(f'AUC (max): {np.round(roc_auc_metric, 2)}')\n",
    "\n",
    "f1_score = np.mean(scores_smote_undersampling[\"test_F1\"])\n",
    "print(f'F1 Score (max): {np.round(f1_score, 2)}')\n",
    "\n",
    "f2_score = np.mean(scores_smote_undersampling[\"test_F2\"])\n",
    "print(f'F2 Score (max): {np.round(f2_score, 2)}')\n",
    "\n",
    "brier_score = -np.mean(scores_smote_undersampling[\"test_Brier\"])\n",
    "print(f'Brier Score (min): {np.round(brier_score, 2)}')\n",
    "\n",
    "# test_False_neg_scorer returns the number of test false negatives -> to get a % we need to divide by the number of test samples*100\n",
    "false_neg_score = np.mean(scores_smote_undersampling[\"test_False_neg_scorer\"])*100/(nb_total_samples/FOLDS)\n",
    "print(f'False negative %: {int(np.round(false_neg_score, 0))}%')\n",
    "\n",
    "false_pos_score = np.mean(scores_smote_undersampling[\"test_False_pos_scorer\"])*100/(nb_total_samples/FOLDS)\n",
    "print(f'False positive %: {int(np.round(false_pos_score, 0))}%')\n",
    "\n",
    "print(\"Execution time: < 10min\")"
   ]
  },
  {
   "cell_type": "code",
   "execution_count": 12,
   "metadata": {},
   "outputs": [
    {
     "name": "stdout",
     "output_type": "stream",
     "text": [
      "Results on clinical data only using scikit-learn HistGradientBoostingClassifier\n",
      "396 train - 99 test\n",
      "---------------------\n",
      "Variables: 15\n",
      "AUC (max): 0.83\n",
      "F1 Score (max): 0.41\n",
      "F2 Score (max): 0.52\n",
      "Brier Score (min): 0.12\n",
      "False negative %: 3%\n",
      "False positive %: 13%\n",
      "Execution time: < 10min\n"
     ]
    }
   ],
   "source": [
    "#pipeline = Pipeline(steps=[('over', SMOTE()), ('model', DecisionTreeClassifier())])\n",
    "pipeline_smote_under = Pipeline(steps=[('over', SMOTE(sampling_strategy=0.1)), ('under', RandomUnderSampler(sampling_strategy=0.5)), ('model', HistGradientBoostingClassifier(categorical_features=[False, False, True, True, False, False, False, False, True, False, True, True, True, True, True]))])\n",
    "\n",
    "cv = RepeatedStratifiedKFold(n_splits=FOLDS, n_repeats=N_REPEATS, random_state=1)\n",
    "\n",
    "#scores = cross_val_score(pipeline, X, y, scoring='roc_auc', cv=cv, n_jobs=-1)\n",
    "scores_smote_undersampling = cross_validate(pipeline_smote_under, X_clinical_only, y, scoring={'F2':ftwo_scorer, 'ROC_AUC':'roc_auc', 'Recall':'recall_macro', 'F1':'f1', 'Brier':\"neg_brier_score\", 'False_neg_scorer':false_neg_scorer, 'False_pos_scorer':false_pos_scorer}, cv=cv, n_jobs=-1)\n",
    "\n",
    "\n",
    "print(\"Results on clinical data only using scikit-learn HistGradientBoostingClassifier\")\n",
    "print(f\"{int(nb_total_samples*(1-1/FOLDS))} train - {int(nb_total_samples/FOLDS)} test\")\n",
    "print(\"---------------------\")\n",
    "print(f\"Variables: {len([False, False, True, True, False, False, False, False, True, False, True, True, True, True, True])}\")\n",
    "\n",
    "roc_auc_metric = np.mean(scores_smote_undersampling[\"test_ROC_AUC\"])\n",
    "print(f'AUC (max): {np.round(roc_auc_metric, 2)}')\n",
    "\n",
    "f1_score = np.mean(scores_smote_undersampling[\"test_F1\"])\n",
    "print(f'F1 Score (max): {np.round(f1_score, 2)}')\n",
    "\n",
    "f2_score = np.mean(scores_smote_undersampling[\"test_F2\"])\n",
    "print(f'F2 Score (max): {np.round(f2_score, 2)}')\n",
    "\n",
    "brier_score = -np.mean(scores_smote_undersampling[\"test_Brier\"])\n",
    "print(f'Brier Score (min): {np.round(brier_score, 2)}')\n",
    "\n",
    "# test_False_neg_scorer returns the number of test false negatives -> to get a % we need to divide by the number of test samples*100\n",
    "false_neg_score = np.mean(scores_smote_undersampling[\"test_False_neg_scorer\"])*100/(nb_total_samples/FOLDS)\n",
    "print(f'False negative %: {int(np.round(false_neg_score, 0))}%')\n",
    "\n",
    "false_pos_score = np.mean(scores_smote_undersampling[\"test_False_pos_scorer\"])*100/(nb_total_samples/FOLDS)\n",
    "print(f'False positive %: {int(np.round(false_pos_score, 0))}%')\n",
    "\n",
    "print(\"Execution time: < 1s\")"
   ]
  },
  {
   "cell_type": "code",
   "execution_count": 38,
   "metadata": {},
   "outputs": [
    {
     "name": "stdout",
     "output_type": "stream",
     "text": [
      "99.0\n"
     ]
    }
   ],
   "source": [
    "print(nb_total_samples/FOLDS)"
   ]
  },
  {
   "cell_type": "markdown",
   "metadata": {},
   "source": [
    "#### Test inference"
   ]
  },
  {
   "cell_type": "code",
   "execution_count": 14,
   "metadata": {},
   "outputs": [
    {
     "name": "stdout",
     "output_type": "stream",
     "text": [
      "[0 0 0 0 0 0 0 0 0 0 0 0 0 0 0 0 0 0 0 0 0 0 0 0 0 1 0 0 0 0 0 0]\n",
      "              precision    recall  f1-score   support\n",
      "\n",
      "           0       0.94      0.97      0.95        30\n",
      "           1       0.00      0.00      0.00         2\n",
      "\n",
      "    accuracy                           0.91        32\n",
      "   macro avg       0.47      0.48      0.48        32\n",
      "weighted avg       0.88      0.91      0.89        32\n",
      "\n"
     ]
    }
   ],
   "source": [
    "categorical = [False]*14 + [False, False, True, True, False, False, False, False, True, False, True, True, True, True, True]\n",
    "clf_clinical_volumes = HistGradientBoostingClassifier(categorical_features=categorical).fit(X_volumes_clinical_dev, y_dev)\n",
    "y_pred = clf_clinical_volumes.predict(X_volumes_clinical_test)\n",
    "print(y_pred)\n",
    "print(classification_report(y_pred=y_pred, y_true=y_test))"
   ]
  },
  {
   "cell_type": "code",
   "execution_count": 15,
   "metadata": {},
   "outputs": [
    {
     "name": "stdout",
     "output_type": "stream",
     "text": [
      "[0 0 0 0 0 0 0 0 0 0 0 0 0 0 0 0 0 0 0 0 0 0 0 0 0 0 0 0 0 0 0 0]\n",
      "              precision    recall  f1-score   support\n",
      "\n",
      "           0       0.94      1.00      0.97        30\n",
      "           1       0.00      0.00      0.00         2\n",
      "\n",
      "    accuracy                           0.94        32\n",
      "   macro avg       0.47      0.50      0.48        32\n",
      "weighted avg       0.88      0.94      0.91        32\n",
      "\n"
     ]
    },
    {
     "name": "stderr",
     "output_type": "stream",
     "text": [
      "/data_local/data_ssd/fehrdelt/environments/general_env/lib/python3.10/site-packages/sklearn/metrics/_classification.py:1531: UndefinedMetricWarning: Precision is ill-defined and being set to 0.0 in labels with no predicted samples. Use `zero_division` parameter to control this behavior.\n",
      "  _warn_prf(average, modifier, f\"{metric.capitalize()} is\", len(result))\n",
      "/data_local/data_ssd/fehrdelt/environments/general_env/lib/python3.10/site-packages/sklearn/metrics/_classification.py:1531: UndefinedMetricWarning: Precision is ill-defined and being set to 0.0 in labels with no predicted samples. Use `zero_division` parameter to control this behavior.\n",
      "  _warn_prf(average, modifier, f\"{metric.capitalize()} is\", len(result))\n",
      "/data_local/data_ssd/fehrdelt/environments/general_env/lib/python3.10/site-packages/sklearn/metrics/_classification.py:1531: UndefinedMetricWarning: Precision is ill-defined and being set to 0.0 in labels with no predicted samples. Use `zero_division` parameter to control this behavior.\n",
      "  _warn_prf(average, modifier, f\"{metric.capitalize()} is\", len(result))\n"
     ]
    }
   ],
   "source": [
    "categorical = [False, False, True, True, False, False, False, False, True, False, True, True, True, True, True]\n",
    "clf_clinical_only = HistGradientBoostingClassifier(categorical_features=categorical).fit(X_clinical_only_dev, y_dev)\n",
    "y_pred = clf_clinical_only.predict(X_clinical_only_test)\n",
    "print(y_pred)\n",
    "print(classification_report(y_pred=y_pred, y_true=y_test))"
   ]
  },
  {
   "cell_type": "code",
   "execution_count": null,
   "metadata": {},
   "outputs": [],
   "source": []
  }
 ],
 "metadata": {
  "kernelspec": {
   "display_name": "base",
   "language": "python",
   "name": "python3"
  },
  "language_info": {
   "codemirror_mode": {
    "name": "ipython",
    "version": 3
   },
   "file_extension": ".py",
   "mimetype": "text/x-python",
   "name": "python",
   "nbconvert_exporter": "python",
   "pygments_lexer": "ipython3",
   "version": "3.11.9"
  }
 },
 "nbformat": 4,
 "nbformat_minor": 2
}
