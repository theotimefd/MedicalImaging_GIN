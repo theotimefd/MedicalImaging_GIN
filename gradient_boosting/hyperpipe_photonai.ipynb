{
 "cells": [
  {
   "cell_type": "code",
   "execution_count": 4,
   "metadata": {},
   "outputs": [],
   "source": [
    "from sklearn.model_selection import ShuffleSplit, KFold, RepeatedStratifiedKFold\n",
    "from sklearn.datasets import load_breast_cancer\n",
    "from photonai.base import Hyperpipe, PipelineElement, Switch\n",
    "from photonai.optimization import IntegerRange, FloatRange\n",
    "\n",
    "import numpy as np\n",
    "import pandas as pd"
   ]
  },
  {
   "cell_type": "code",
   "execution_count": 5,
   "metadata": {},
   "outputs": [],
   "source": [
    "DATA_DIRECTORY = \"/home/fehrdelt/data_ssd/data/clinical_data/Full/\""
   ]
  },
  {
   "cell_type": "code",
   "execution_count": 3,
   "metadata": {},
   "outputs": [],
   "source": [
    "from sklearn.metrics import fbeta_score, make_scorer\n",
    "from sklearn.metrics import confusion_matrix\n",
    "\n",
    "ftwo_scorer = make_scorer(fbeta_score, beta=2)\n",
    "\n",
    "def confusion_matrix_scorer(clf, X, y):\n",
    "\n",
    "     y_pred = clf.predict(X)\n",
    "     cm = confusion_matrix(y, y_pred)\n",
    "\n",
    "     return {'tn': cm[0, 0], 'fp': cm[0, 1],\n",
    "             'fn': cm[1, 0], 'tp': cm[1, 1]}\n",
    "\n",
    "def false_neg_scorer(clf, X, y):\n",
    "\n",
    "     y_pred = clf.predict(X)\n",
    "     cm = confusion_matrix(y, y_pred)\n",
    "     \n",
    "     return cm[1, 0]\n",
    "\n",
    "def false_pos_scorer(clf, X, y):\n",
    "\n",
    "     y_pred = clf.predict(X)\n",
    "     cm = confusion_matrix(y, y_pred)\n",
    "     \n",
    "     return cm[0, 1]"
   ]
  },
  {
   "cell_type": "code",
   "execution_count": null,
   "metadata": {},
   "outputs": [],
   "source": [
    "# Specify how results are going to be saved\n",
    "# Define hyperpipe\n",
    "hyperpipe = Hyperpipe('megaclassifpipeline',\n",
    "                      project_folder = '/home/fehrdelt/data_ssd/MedicalImaging_GIN/photonAI_results',\n",
    "                      optimizer=\"random_grid_search\",\n",
    "                      optimizer_params={'n_configurations': 30},\n",
    "                      metrics=[('F2', ftwo_scorer), ('False_neg_scorer', false_neg_scorer), ('False_pos_scorer', false_pos_scorer), 'accuracy', 'precision', 'recall', 'f1_score', 'auc'],\n",
    "                      best_config_metric=\"F2\",\n",
    "                      outer_cv = RepeatedStratifiedKFold(n_splits=5, n_repeats=3, shuffle=True),\n",
    "                      inner_cv = RepeatedStratifiedKFold(n_splits=5, n_repeats=3, shuffle=True))\n",
    "        \n",
    "# Add transformer elements\n",
    "hyperpipe += PipelineElement(\"SimpleImputer\", hyperparameters={}, \n",
    "                             test_disabled=False, missing_values=np.nan, strategy='median', fill_value=0)\n",
    "hyperpipe += PipelineElement(\"ImbalancedDataTransform\", hyperparameters={'method_name': ['RandomUnderSampler', 'SMOTEEN']}, \n",
    "                             test_disabled=False)\n",
    "# Add estimator\n",
    "estimator_switch = Switch('EstimatorSwitch')\n",
    "estimator_switch += PipelineElement(\"RandomForestClassifier\", hyperparameters={'n_estimators': IntegerRange(5, 20), 'min_samples_split': IntegerRange(2,5), 'min_samples_leaf': IntegerRange(1,3)})\n",
    "estimator_switch += PipelineElement(\"HistGradientBoostingClassifier\", hyperparameters={'learning_rate': FloatRange(range_type=\"logspace\", start=0.001, stop=1, num=10), 'l2_regularization': FloatRange(start=0.0, stop=1.0, num=5)})\n",
    "estimator_switch += PipelineElement(\"LogisticRegression\", hyperparameters={}, penality='l2', C=1, max_iter=100)\n",
    "hyperpipe += estimator_switch\n",
    "\n",
    "\n"
   ]
  },
  {
   "cell_type": "code",
   "execution_count": null,
   "metadata": {},
   "outputs": [],
   "source": [
    "# Load data\n",
    "df = pd.read_csv(DATA_DIRECTORY+\"combined_clinical_data_volumes_outcome_TTS_ANTS_hist_match.csv\", usecols=range(2,32))\n",
    "X = np.asarray(df.iloc[:, :-1])\n",
    "y = np.asarray(df.iloc[:, -1])\n",
    "\n",
    "# Fit hyperpipe\n",
    "hyperpipe.fit(X, y)"
   ]
  }
 ],
 "metadata": {
  "kernelspec": {
   "display_name": "general_env",
   "language": "python",
   "name": "general_env"
  }
 },
 "nbformat": 4,
 "nbformat_minor": 2
}
